{
 "cells": [
  {
   "cell_type": "markdown",
   "metadata": {
    "editable": true
   },
   "source": [
    "# Udacity Capstone Project - Data Engineering Nanodegree Program"
   ]
  },
  {
   "cell_type": "markdown",
   "metadata": {
    "editable": true
   },
   "source": [
    "## Cleaning the Data"
   ]
  },
  {
   "cell_type": "markdown",
   "metadata": {
    "editable": true
   },
   "source": [
    "As mentioned in the README.md file, this project uses two data sources with csv format. These are: \n",
    "- _Stock_Countries.csv_\n",
    "- _Covid_Stringency_Index.csv_\n",
    "\n",
    "Both files require to fix data quality issues and to be formated to have the structure of our **Staging Tables**.\n",
    "\n",
    "The Staging tables from which we are going to extract the data for our data model have the next composition:\n",
    "\n",
    "![alt text](./Data/Img/Staging_tables.PNG)\n"
   ]
  },
  {
   "cell_type": "markdown",
   "metadata": {
    "editable": true
   },
   "source": [
    "## STAGING STOCK TABLE\n",
    "\n",
    "The file \"_Stock Countries cleaning_\" collects information of more than 1850 companies in 50 different countries around the world. \n",
    "\n",
    "Because we want to know the evolution of stock market values throughout the impact of covid-19 we need to collect values of more than a year in order to see the influence of that impact. For that reason I am going to clean up and organize the data to give it a common structure and use the _yfinance_ library to get the values from the stock market during that period of time.\n"
   ]
  },
  {
   "cell_type": "code",
   "execution_count": 1,
   "metadata": {
    "editable": true
   },
   "outputs": [],
   "source": [
    "# Import libraries\n",
    "import configparser\n",
    "\n",
    "import pandas as pd\n",
    "import numpy as np\n",
    "from pyspark.sql import SparkSession\n",
    "\n",
    "import datetime\n",
    "\n",
    "import boto3, os"
   ]
  },
  {
   "cell_type": "code",
   "execution_count": 2,
   "metadata": {
    "editable": true
   },
   "outputs": [],
   "source": [
    "import yfinance as yf\n",
    "from io import StringIO # python3; python2: BytesIO "
   ]
  },
  {
   "cell_type": "code",
   "execution_count": 3,
   "metadata": {
    "editable": true
   },
   "outputs": [
    {
     "data": {
      "text/plain": [
       "'1.1.3'"
      ]
     },
     "execution_count": 3,
     "metadata": {},
     "output_type": "execute_result"
    }
   ],
   "source": [
    "pd.__version__"
   ]
  },
  {
   "cell_type": "code",
   "execution_count": 4,
   "metadata": {
    "editable": true
   },
   "outputs": [],
   "source": [
    "# This is the file we've collected\n",
    "countries_stock = pd.read_csv(\"./Data/Stock_Countries.csv\", delimiter=\";\", encoding='utf-8')"
   ]
  },
  {
   "cell_type": "markdown",
   "metadata": {
    "editable": true
   },
   "source": [
    "First I'm going to check for empty values"
   ]
  },
  {
   "cell_type": "code",
   "execution_count": 5,
   "metadata": {
    "editable": true
   },
   "outputs": [
    {
     "data": {
      "text/plain": [
       "True"
      ]
     },
     "execution_count": 5,
     "metadata": {},
     "output_type": "execute_result"
    }
   ],
   "source": [
    "#  Check for Nan\n",
    "countries_stock.isnull().values.any()"
   ]
  },
  {
   "cell_type": "markdown",
   "metadata": {
    "editable": true
   },
   "source": [
    "Because there are empty values I'm going to find how many there are and what values are missing to determine if I should delete faulty data or if I could complete it."
   ]
  },
  {
   "cell_type": "code",
   "execution_count": 6,
   "metadata": {
    "editable": true
   },
   "outputs": [
    {
     "data": {
      "text/html": [
       "<div>\n",
       "<style scoped>\n",
       "    .dataframe tbody tr th:only-of-type {\n",
       "        vertical-align: middle;\n",
       "    }\n",
       "\n",
       "    .dataframe tbody tr th {\n",
       "        vertical-align: top;\n",
       "    }\n",
       "\n",
       "    .dataframe thead th {\n",
       "        text-align: right;\n",
       "    }\n",
       "</style>\n",
       "<table border=\"1\" class=\"dataframe\">\n",
       "  <thead>\n",
       "    <tr style=\"text-align: right;\">\n",
       "      <th></th>\n",
       "      <th>Name</th>\n",
       "      <th>Sector</th>\n",
       "      <th>Ticker</th>\n",
       "      <th>Country</th>\n",
       "    </tr>\n",
       "  </thead>\n",
       "  <tbody>\n",
       "    <tr>\n",
       "      <th>759</th>\n",
       "      <td>NH FOODS LTD</td>\n",
       "      <td>NaN</td>\n",
       "      <td>2282.T</td>\n",
       "      <td>Japan</td>\n",
       "    </tr>\n",
       "    <tr>\n",
       "      <th>760</th>\n",
       "      <td>NICHIREI CORP</td>\n",
       "      <td>NaN</td>\n",
       "      <td>2871.T</td>\n",
       "      <td>Japan</td>\n",
       "    </tr>\n",
       "  </tbody>\n",
       "</table>\n",
       "</div>"
      ],
      "text/plain": [
       "              Name Sector  Ticker Country\n",
       "759   NH FOODS LTD    NaN  2282.T   Japan\n",
       "760  NICHIREI CORP    NaN  2871.T   Japan"
      ]
     },
     "execution_count": 6,
     "metadata": {},
     "output_type": "execute_result"
    }
   ],
   "source": [
    "is_NaN = countries_stock.isnull()\n",
    "row_has_NaN = is_NaN.any(axis=1)\n",
    "rows_with_NaN = countries_stock[row_has_NaN]\n",
    "rows_with_NaN\n",
    "# countries_stock['Sector'].isnull().values.any()"
   ]
  },
  {
   "cell_type": "markdown",
   "metadata": {
    "editable": true
   },
   "source": [
    "Seeing that the data is only missing two cells, I'm going to obtain the information using the _yfinance_ library and complete the data manually."
   ]
  },
  {
   "cell_type": "markdown",
   "metadata": {
    "editable": true
   },
   "source": [
    "For that I need to extract the Tickers from this rows and introduce them as parameters in the function _Ticker_ of the _yfinance_ library."
   ]
  },
  {
   "cell_type": "code",
   "execution_count": 7,
   "metadata": {
    "editable": true
   },
   "outputs": [],
   "source": [
    "Missing_Sector1_ticker = countries_stock.iloc[rows_with_NaN.index[0]]['Ticker']\n",
    "Missing_Sector2_ticker = countries_stock.iloc[rows_with_NaN.index[1]]['Ticker']"
   ]
  },
  {
   "cell_type": "code",
   "execution_count": 9,
   "metadata": {
    "editable": true
   },
   "outputs": [
    {
     "name": "stdout",
     "output_type": "stream",
     "text": [
      "Missing sectors: Consumer Defensive, Consumer Defensive\n"
     ]
    }
   ],
   "source": [
    "info_missing1 = yf.Ticker(Missing_Sector1_ticker)\n",
    "info_missing2 = yf.Ticker(Missing_Sector2_ticker)\n",
    "sector_missing1 = info_missing1.info['sector']\n",
    "sector_missing2 = info_missing2.info['sector']\n",
    "print(\"Missing sectors: {}, {}\".format(sector_missing1, sector_missing2))"
   ]
  },
  {
   "cell_type": "markdown",
   "metadata": {
    "editable": true
   },
   "source": [
    "Once determined the missing data we can introduce it into our dataframe."
   ]
  },
  {
   "cell_type": "code",
   "execution_count": 10,
   "metadata": {
    "editable": true
   },
   "outputs": [],
   "source": [
    "countries_stock.iloc[rows_with_NaN.index[0]]['Sector'] = sector_missing1\n",
    "countries_stock.iloc[rows_with_NaN.index[1]]['Sector'] = sector_missing2"
   ]
  },
  {
   "cell_type": "markdown",
   "metadata": {
    "editable": true
   },
   "source": [
    "Because there were only two cells missing we could do this manually and quickly enough.\n",
    "If we were missing many values we probably should consider delete these rows or obtain my data from somewhere else to avoid any unneccesary waste of time."
   ]
  },
  {
   "cell_type": "markdown",
   "metadata": {
    "editable": true
   },
   "source": [
    "Checking again our data we can see that we have no missing values."
   ]
  },
  {
   "cell_type": "code",
   "execution_count": 11,
   "metadata": {
    "editable": true
   },
   "outputs": [
    {
     "data": {
      "text/plain": [
       "False"
      ]
     },
     "execution_count": 11,
     "metadata": {},
     "output_type": "execute_result"
    }
   ],
   "source": [
    "#  Check for Nan\n",
    "countries_stock.isnull().values.any()"
   ]
  },
  {
   "cell_type": "markdown",
   "metadata": {
    "editable": true
   },
   "source": [
    "### Exploring the data"
   ]
  },
  {
   "cell_type": "markdown",
   "metadata": {
    "editable": true
   },
   "source": [
    "We can see if we have repeated values and how many companies we have in total."
   ]
  },
  {
   "cell_type": "code",
   "execution_count": 12,
   "metadata": {
    "editable": true
   },
   "outputs": [
    {
     "data": {
      "text/plain": [
       "False"
      ]
     },
     "execution_count": 12,
     "metadata": {},
     "output_type": "execute_result"
    }
   ],
   "source": [
    "countries_stock.duplicated(subset = 'Ticker').any()"
   ]
  },
  {
   "cell_type": "code",
   "execution_count": 13,
   "metadata": {
    "editable": true
   },
   "outputs": [],
   "source": [
    "# If there were duplicates\n",
    "# countries_stock[countries_stock.duplicated(subset = ['Ticker'])]"
   ]
  },
  {
   "cell_type": "markdown",
   "metadata": {
    "editable": true
   },
   "source": [
    "We can see that our CSV includes 1891 different companies."
   ]
  },
  {
   "cell_type": "code",
   "execution_count": 14,
   "metadata": {
    "editable": true,
    "scrolled": true
   },
   "outputs": [
    {
     "data": {
      "text/plain": [
       "1891"
      ]
     },
     "execution_count": 14,
     "metadata": {},
     "output_type": "execute_result"
    }
   ],
   "source": [
    "# Total number of companies\n",
    "len(countries_stock)"
   ]
  },
  {
   "cell_type": "markdown",
   "metadata": {
    "editable": true
   },
   "source": [
    "And 50 different countries."
   ]
  },
  {
   "cell_type": "code",
   "execution_count": 15,
   "metadata": {
    "editable": true
   },
   "outputs": [
    {
     "data": {
      "text/plain": [
       "50"
      ]
     },
     "execution_count": 15,
     "metadata": {},
     "output_type": "execute_result"
    }
   ],
   "source": [
    "# The number of countries\n",
    "len(countries_stock['Country'].unique())"
   ]
  },
  {
   "cell_type": "code",
   "execution_count": 16,
   "metadata": {
    "editable": true
   },
   "outputs": [
    {
     "data": {
      "text/plain": [
       "array(['Argentina', 'China', 'Singapore', 'Hong Kong', 'South Korea',\n",
       "       'Taiwan', 'Greece', 'Australia', 'Belgium', 'Brazil', 'Hungary',\n",
       "       'Canada', 'Chile', 'Colombia', 'Denmark', 'Czech Republic',\n",
       "       'Spain', 'Estonia', 'Finland', 'France', 'Germany', 'Iceland',\n",
       "       'Indonesia', 'India', 'Ireland', 'Israel', 'Italy', 'Japan',\n",
       "       'South Africa', 'Latvia', 'Lithuania', 'Luxembourg', 'Malaysia',\n",
       "       'Mexico', 'Norway', 'Netherlands', 'New Zealand', 'Peru',\n",
       "       'Portugal', 'Qatar', 'Romania', 'Russia', 'Sweden', 'Switzerland',\n",
       "       'Thailand', 'Turkey', 'United Kingdom', 'United States',\n",
       "       'Venezuela', 'Austria'], dtype=object)"
      ]
     },
     "execution_count": 16,
     "metadata": {},
     "output_type": "execute_result"
    }
   ],
   "source": [
    "# This is the list of the countries of our file\n",
    "countries_stock['Country'].unique()"
   ]
  },
  {
   "cell_type": "markdown",
   "metadata": {
    "editable": true
   },
   "source": [
    "***"
   ]
  },
  {
   "cell_type": "markdown",
   "metadata": {
    "editable": true
   },
   "source": [
    "Let's check the sectors."
   ]
  },
  {
   "cell_type": "code",
   "execution_count": 17,
   "metadata": {
    "editable": true
   },
   "outputs": [
    {
     "name": "stdout",
     "output_type": "stream",
     "text": [
      "Number of sectors: 333\n"
     ]
    }
   ],
   "source": [
    "# This are the sectors\n",
    "# print(countries_stock['Sector'].unique())\n",
    "print(\"Number of sectors: {}\".format(len(countries_stock['Sector'].unique())))"
   ]
  },
  {
   "cell_type": "markdown",
   "metadata": {
    "editable": true
   },
   "source": [
    "Because this file has been created from many different sources we can apreciate that there are too many sectors and there are many repetitions and different formats.\n",
    "\n",
    "I'm going to reduce this by categories.\n",
    "We are interested in grouping the companies by a manageable number of sectors, so in order to clean this, I'm going to simplify these sectors to the standard **S&P sectors** based on the company's primary business activity used in the stock market.\n",
    "The 11 Sectors defined by _The S&P Sectors_ are also used in _Yahoo finances_ and they are: \n",
    "- Information Technology\n",
    "- Health Care\n",
    "- Financials\n",
    "- Consumer Discretionary\n",
    "- Communication Services\n",
    "- Industrials\n",
    "- Consumer Staples\n",
    "- Energy\n",
    "- Utilities\n",
    "- Real Estate\n",
    "- Materials"
   ]
  },
  {
   "cell_type": "markdown",
   "metadata": {
    "editable": true
   },
   "source": [
    "Here is the definition of each sector and the industries that they include: https://corporatefinanceinstitute.com/resources/knowledge/finance/the-sp-sectors/"
   ]
  },
  {
   "cell_type": "markdown",
   "metadata": {
    "editable": true
   },
   "source": [
    "In the first place I'm going to create a dictionary containing all the industries of each sector and replacing in the dataframe those values with the name of the sector."
   ]
  },
  {
   "cell_type": "code",
   "execution_count": 18,
   "metadata": {
    "editable": true
   },
   "outputs": [],
   "source": [
    "Materials_s = ['Agricultural Inputs',\n",
    " 'Building Materials',\n",
    " 'Chemicals',\n",
    " 'Specialty Chemicals',\n",
    " 'Lumber & Wood Production',\n",
    " 'Paper & Paper Products',\n",
    " 'Aluminum',\n",
    " 'Copper',\n",
    " 'Other Industrial Metals & Mining',\n",
    " 'Gold',\n",
    " 'Silver',\n",
    " 'Other Precious Metals & Mining',\n",
    " 'Coking Coal',\n",
    " 'Steel']\n",
    "Materials_d = dict.fromkeys(Materials_s, \"Materials\")"
   ]
  },
  {
   "cell_type": "code",
   "execution_count": 19,
   "metadata": {
    "editable": true
   },
   "outputs": [],
   "source": [
    "Financials_s = ['Asset Management',\n",
    " 'Banks—Diversified',\n",
    " 'Banks—Regional',\n",
    " 'Mortgage Finance',\n",
    " 'Capital Markets',\n",
    " 'Financial Data & Stock Exchanges',\n",
    " 'Insurance—Life',\n",
    " 'Insurance—Property & Casualty',\n",
    " 'Insurance—Reinsurance',\n",
    " 'Insurance—Specialty',\n",
    " 'Insurance Brokers',\n",
    " 'Insurance—Diversified',\n",
    " 'Shell Companies',\n",
    " 'Financial Conglomerates',\n",
    " 'Credit Services']\n",
    "Financials_d = dict.fromkeys(Financials_s, \"Financials\")"
   ]
  },
  {
   "cell_type": "code",
   "execution_count": 20,
   "metadata": {
    "editable": true
   },
   "outputs": [],
   "source": [
    "Consumer_Defensive_s = ['Beverages—Brewers',\n",
    " 'Beverages—Wineries & Distilleries',\n",
    " 'Beverages—Non-Alcoholic',\n",
    " 'Confectioners',\n",
    " 'Farm Products',\n",
    " 'Household & Personal Products',\n",
    " 'Packaged Foods',\n",
    " 'Education & Training Services',\n",
    " 'Discount Stores',\n",
    " 'Food Distribution',\n",
    " 'Grocery Stores',\n",
    " 'Tobacco']\n",
    "Consumer_Defensive_d = dict.fromkeys(Consumer_Defensive_s, \"Consumer Defensive\")"
   ]
  },
  {
   "cell_type": "code",
   "execution_count": 21,
   "metadata": {
    "editable": true
   },
   "outputs": [],
   "source": [
    "Utilities_s = ['Utilities—Independent Power Producers',\n",
    " 'Utilities—Renewable',\n",
    " 'Utilities—Regulated Water',\n",
    " 'Utilities—Regulated Electric',\n",
    " 'Utilities—Regulated Gas',\n",
    " 'Utilities—Diversified']\n",
    "Utilities_d = dict.fromkeys(Utilities_s, \"Utilities\")"
   ]
  },
  {
   "cell_type": "code",
   "execution_count": 22,
   "metadata": {
    "editable": true
   },
   "outputs": [],
   "source": [
    "Energy_s = ['Oil & Gas Drilling',\n",
    " 'Oil & Gas E&P',\n",
    " 'Oil & Gas Integrated',\n",
    " 'Oil & Gas Midstream',\n",
    " 'Oil & Gas Refining & Marketing',\n",
    " 'Oil & Gas Equipment & Services',\n",
    " 'Thermal Coal',\n",
    " 'Uranium']\n",
    "Energy_d= dict.fromkeys(Energy_s, \"Energy\")"
   ]
  },
  {
   "cell_type": "code",
   "execution_count": 23,
   "metadata": {
    "editable": true
   },
   "outputs": [],
   "source": [
    "Technology_s = ['Information Technology Services',\n",
    " 'Software—Application',\n",
    " 'Software—Infrastructure',\n",
    " 'Communication Equipment',\n",
    " 'Computer Hardware',\n",
    " 'Consumer Electronics',\n",
    " 'Electronic Components',\n",
    " 'Electronics & Computer Distribution',\n",
    " 'Scientific & Technical Instruments',\n",
    " 'Semiconductor Equipment & Materials',\n",
    " 'Semiconductors',\n",
    " 'Solar']\n",
    "Technology_d= dict.fromkeys(Technology_s, \"Information Technology\")"
   ]
  },
  {
   "cell_type": "code",
   "execution_count": 24,
   "metadata": {
    "editable": true
   },
   "outputs": [],
   "source": [
    "Consumer_Discretionary_s = ['Auto & Truck Dealerships',\n",
    " 'Auto Manufacturers',\n",
    " 'Auto Parts',\n",
    " 'Recreational Vehicles',\n",
    " 'Furnishings, Fixtures & Appliances',\n",
    " 'Residential Construction',\n",
    " 'Textile Manufacturing',\n",
    " 'Apparel Manufacturing',\n",
    " 'Footwear & Accessories',\n",
    " 'Packaging & Containers',\n",
    " 'Personal Services',\n",
    " 'Restaurants',\n",
    " 'Apparel Retail',\n",
    " 'Department Stores',\n",
    " 'Home Improvement Retail',\n",
    " 'Luxury Goods',\n",
    " 'Internet Retail',\n",
    " 'Specialty Retail',\n",
    " 'Gambling',\n",
    " 'Leisure',\n",
    " 'Lodging',\n",
    " 'Resorts & Casinos',\n",
    " 'Travel Services']\n",
    "Consumer_Discretionary_d = dict.fromkeys(Consumer_Discretionary_s, \"Consumer Discretionary\")"
   ]
  },
  {
   "cell_type": "code",
   "execution_count": 25,
   "metadata": {
    "editable": true
   },
   "outputs": [],
   "source": [
    "Real_Estate_s = ['Real Estate—Development',\n",
    " 'Real Estate Services',\n",
    " 'Real Estate—Diversified',\n",
    " 'REIT—Healthcare Facilities',\n",
    " 'REIT—Hotel & Motel',\n",
    " 'REIT—Industrial',\n",
    " 'REIT—Office',\n",
    " 'REIT—Residential',\n",
    " 'REIT—Retail',\n",
    " 'REIT—Mortgage',\n",
    " 'REIT—Specialty',\n",
    " 'REIT—Diversified']\n",
    "Real_Estate_d = dict.fromkeys(Real_Estate_s, \"Real Estate\")"
   ]
  },
  {
   "cell_type": "code",
   "execution_count": 26,
   "metadata": {
    "editable": true
   },
   "outputs": [],
   "source": [
    "Healthcare_s = ['Biotechnology',\n",
    " 'Drug Manufacturers—General',\n",
    " 'Drug Manufacturers—Specialty & Generic',\n",
    " 'Healthcare Plans',\n",
    " 'Medical Care Facilities',\n",
    " 'Pharmaceutical Retailers',\n",
    " 'Health Information Services',\n",
    " 'Medical Devices',\n",
    " 'Medical Instruments & Supplies',\n",
    " 'Diagnostics & Research',\n",
    " 'Medical Distribution']\n",
    "Healthcare_d = dict.fromkeys(Healthcare_s, \"Healthcare\")"
   ]
  },
  {
   "cell_type": "code",
   "execution_count": 27,
   "metadata": {
    "editable": true
   },
   "outputs": [],
   "source": [
    "Communication_Services_s = ['Telecommunications',\n",
    " 'Telecom Services',\n",
    " 'Advertising Agencies',\n",
    " 'Publishing',\n",
    " 'Broadcasting',\n",
    " 'Entertainment',\n",
    " 'Internet Content & Information',\n",
    " 'Electronic Gaming & Multimedia']\n",
    "Communication_Services_d= dict.fromkeys(Communication_Services_s, \"Communication Services\")"
   ]
  },
  {
   "cell_type": "code",
   "execution_count": 28,
   "metadata": {
    "editable": true
   },
   "outputs": [],
   "source": [
    "Industrial_s = ['Aerospace & Defense',\n",
    " 'Specialty Business Services',\n",
    " 'Consulting Services',\n",
    " 'Rental & Leasing Services',\n",
    " 'Security & Protection Services',\n",
    " 'Staffing & Employment Services',\n",
    " 'Conglomerates',\n",
    " 'Engineering & Construction',\n",
    " 'Infrastructure Operations',\n",
    " 'Building Products & Equipment',\n",
    " 'Farm & Heavy Construction Machinery',\n",
    " 'Industrial Distribution',\n",
    " 'Business Equipment & Supplies',\n",
    " 'Specialty Industrial Machinery',\n",
    " 'Metal Fabrication',\n",
    " 'Pollution & Treatment Controls',\n",
    " 'Tools & Accessories',\n",
    " 'Electrical Equipment & Parts',\n",
    " 'Airports & Air Services',\n",
    " 'Airlines',\n",
    " 'Railroads',\n",
    " 'Marine Shipping',\n",
    " 'Trucking',\n",
    " 'Integrated Freight & Logistics',\n",
    " 'Waste Management']\n",
    "Industrial_d= dict.fromkeys(Industrial_s, \"Industrials\")"
   ]
  },
  {
   "cell_type": "code",
   "execution_count": 29,
   "metadata": {
    "editable": true
   },
   "outputs": [],
   "source": [
    "# I'll combine all the dictionaries to this one named: \"big_dict\"\n",
    "big_dict = {**Industrial_d, **Communication_Services_d, **Healthcare_d, **Real_Estate_d, **Consumer_Discretionary_d, **Technology_d, **Energy_d, **Utilities_d, **Consumer_Defensive_d, **Financials_d, **Materials_d}\n"
   ]
  },
  {
   "cell_type": "code",
   "execution_count": 30,
   "metadata": {
    "editable": true
   },
   "outputs": [],
   "source": [
    "# And use it to replace the values in the dataframe\n",
    "countries_stock[\"Sector\"] = countries_stock[\"Sector\"].replace(big_dict)"
   ]
  },
  {
   "cell_type": "code",
   "execution_count": 31,
   "metadata": {
    "editable": true
   },
   "outputs": [
    {
     "data": {
      "text/plain": [
       "306"
      ]
     },
     "execution_count": 31,
     "metadata": {},
     "output_type": "execute_result"
    }
   ],
   "source": [
    "# Check the number of sectors again\n",
    "len(countries_stock[\"Sector\"].unique())"
   ]
  },
  {
   "cell_type": "markdown",
   "metadata": {
    "editable": true
   },
   "source": [
    "We've reduce the number of sectors but it's not nearly enogth.\n",
    "I'll take a more specific aproach to identify each sector using some key strings that each sector (depending on which category belongs to) has.\n"
   ]
  },
  {
   "cell_type": "code",
   "execution_count": 32,
   "metadata": {
    "editable": true
   },
   "outputs": [],
   "source": [
    "# I'm going to create a list with all the sectors and use it to extract the strings\n",
    "# that contain the key words to identify to which category it belongs.\n",
    "my_list = countries_stock['Sector'].unique().tolist()\n",
    "my_list_aux = [each_elem.lower() for each_elem in my_list]"
   ]
  },
  {
   "cell_type": "code",
   "execution_count": 33,
   "metadata": {
    "editable": true
   },
   "outputs": [],
   "source": [
    "Energy = [x for x in my_list_aux for elem in ['energy', 'gas', 'oil', 'uranium', 'power', 'refining'] if elem in x]\n",
    "Information_Technology = [x for x in my_list_aux for elem in ['tech', 'software', 'hardware', 'it services','computer', 'electronic', 'cable', 'satellite'] if elem in x]\n",
    "Health_Care= [x for x in my_list_aux for elem in ['health', 'sanitation', 'pharmac', 'medic'] if elem in x]\n",
    "Financials = [x for x in my_list_aux for elem in ['financ', 'bank', 'insurance', 'stock', 'asset', 'invest', 'holdings', 'property management'] if elem in x]\n",
    "Communication_Services = [x for x in my_list_aux for elem in ['communication', 'teleco', 'publish','media', 'internet', 'digital', 'alternative carriers'] if elem in x]\n",
    "Industrials = [x for x in my_list_aux for elem in ['industri', 'contractor', 'defence', 'defense','aviation','machinery', 'chem', 'cellulose', 'air', 'forest', 'construction', 'transport', 'extraction', 'manufacturing','shipping', 'marine','rental', 'infrastructure', 'leasing', 'agriculture','securi', 'protection', 'employment', 'engineering', 'exploration & production'] if elem in x]\n",
    "Consumer_Defensive = [x for x in my_list_aux for elem in ['consumer defensive', 'food', 'staples','personal', 'consumer good', 'meat','beverages','drink', 'water', 'tobacco', 'grocery', 'farm products'] if elem in x]\n",
    "Utilities = [x for x in my_list_aux for elem in ['electri', 'util', 'utilities'] if elem in x]\n",
    "Real_Estate= [x for x in my_list_aux for elem in ['real estate', 'real state','reit'] if elem in x]\n",
    "Materials = [x for x in my_list_aux for elem in ['material', 'conglomer', 'wood',  'lumber', 'cement','conductor', 'paper', 'copper', 'chemestry', 'basic resources','metal', 'mining','aluminium', 'gold', 'rubber','silver', 'coal', 'steel'] if elem in x]\n",
    "Consumer_Discretionary = [x for x in my_list_aux for elem in ['consumer discretionary','auto', 'retail', 'service','wholesale trade', 'private equity','cyclical', 'clothing', 'other products', 'sport', 'apparel','entertainment', 'specialty stores','precision instruments','specialized consumer services', 'mall', 'discount', 'brewers', 'luxury', 'household goods','accessor', 'tourism', 'wines', 'home improvement', 'recreational', 'ceramic', 'watch', 'game', 'gaming', 'casinos', 'restaurant', 'furnish', 'toy', 'texttile', 'footwear', 'accessory', 'shoe', 'gambling', 'travel'] if elem in x]"
   ]
  },
  {
   "cell_type": "markdown",
   "metadata": {
    "editable": true
   },
   "source": [
    "Now I'll create a new _big_dict_ to replace the values obtained."
   ]
  },
  {
   "cell_type": "code",
   "execution_count": 34,
   "metadata": {
    "editable": true
   },
   "outputs": [],
   "source": [
    "Materials_d = dict.fromkeys(Materials, \"Materials\")\n",
    "Financials_d = dict.fromkeys(Financials, \"Financials\")\n",
    "Consumer_Defensive_d = dict.fromkeys(Consumer_Defensive, \"Consumer Defensive\")\n",
    "Utilities_d = dict.fromkeys(Utilities, \"Utilities\")\n",
    "Energy_d= dict.fromkeys(Energy, \"Energy\")\n",
    "Technology_d= dict.fromkeys(Information_Technology , \"Information Technology\")\n",
    "Consumer_Discretionary_d = dict.fromkeys(Consumer_Discretionary, \"Consumer Discretionary\")\n",
    "Real_Estate_d = dict.fromkeys(Real_Estate, \"Real Estate\")\n",
    "Healthcare_d = dict.fromkeys(Health_Care, \"Healthcare\")\n",
    "Communication_Services_d= dict.fromkeys(Communication_Services, \"Communication Services\")\n",
    "Industrial_d= dict.fromkeys(Industrials, \"Industrials\")\n",
    "\n",
    "big_dict = {**Industrial_d, **Communication_Services_d, **Healthcare_d, **Real_Estate_d, **Consumer_Discretionary_d, **Technology_d, **Energy_d, **Utilities_d, **Consumer_Defensive_d, **Financials_d, **Materials_d}\n"
   ]
  },
  {
   "cell_type": "markdown",
   "metadata": {
    "editable": true
   },
   "source": [
    "This time I'll transform the strings of _Sector_ column to lower case to compare it with the values in my dictionary."
   ]
  },
  {
   "cell_type": "code",
   "execution_count": 35,
   "metadata": {
    "editable": true
   },
   "outputs": [],
   "source": [
    "countries_stock[\"Sector\"] = countries_stock[\"Sector\"].str.lower()"
   ]
  },
  {
   "cell_type": "code",
   "execution_count": 36,
   "metadata": {
    "editable": true
   },
   "outputs": [],
   "source": [
    "countries_stock[\"Sector\"] = countries_stock[\"Sector\"].replace(big_dict)"
   ]
  },
  {
   "cell_type": "markdown",
   "metadata": {
    "editable": true
   },
   "source": [
    "Check the number of sectors again."
   ]
  },
  {
   "cell_type": "code",
   "execution_count": 37,
   "metadata": {
    "editable": true
   },
   "outputs": [
    {
     "data": {
      "text/plain": [
       "array(['Utilities', 'Information Technology', 'Industrials', 'Financials',\n",
       "       'Consumer Defensive', 'Consumer Discretionary', 'Materials',\n",
       "       'Communication Services', 'Healthcare', 'Real Estate', 'Energy'],\n",
       "      dtype=object)"
      ]
     },
     "execution_count": 37,
     "metadata": {},
     "output_type": "execute_result"
    }
   ],
   "source": [
    "countries_stock[\"Sector\"].unique()"
   ]
  },
  {
   "cell_type": "code",
   "execution_count": 38,
   "metadata": {
    "editable": true
   },
   "outputs": [
    {
     "data": {
      "text/plain": [
       "11"
      ]
     },
     "execution_count": 38,
     "metadata": {},
     "output_type": "execute_result"
    }
   ],
   "source": [
    "len(countries_stock[\"Sector\"].unique())"
   ]
  },
  {
   "cell_type": "code",
   "execution_count": 39,
   "metadata": {
    "editable": true
   },
   "outputs": [
    {
     "data": {
      "text/html": [
       "<div>\n",
       "<style scoped>\n",
       "    .dataframe tbody tr th:only-of-type {\n",
       "        vertical-align: middle;\n",
       "    }\n",
       "\n",
       "    .dataframe tbody tr th {\n",
       "        vertical-align: top;\n",
       "    }\n",
       "\n",
       "    .dataframe thead th {\n",
       "        text-align: right;\n",
       "    }\n",
       "</style>\n",
       "<table border=\"1\" class=\"dataframe\">\n",
       "  <thead>\n",
       "    <tr style=\"text-align: right;\">\n",
       "      <th></th>\n",
       "      <th>Name</th>\n",
       "      <th>Sector</th>\n",
       "      <th>Ticker</th>\n",
       "      <th>Country</th>\n",
       "    </tr>\n",
       "  </thead>\n",
       "  <tbody>\n",
       "    <tr>\n",
       "      <th>0</th>\n",
       "      <td>Compañía de Transporte de Energía Eléctrica en...</td>\n",
       "      <td>Utilities</td>\n",
       "      <td>TRAN.BA</td>\n",
       "      <td>Argentina</td>\n",
       "    </tr>\n",
       "    <tr>\n",
       "      <th>1</th>\n",
       "      <td>Cisco Systems, Inc.</td>\n",
       "      <td>Information Technology</td>\n",
       "      <td>CSCO.BA</td>\n",
       "      <td>Argentina</td>\n",
       "    </tr>\n",
       "    <tr>\n",
       "      <th>2</th>\n",
       "      <td>Sociedad Comercial del Plata S.A.</td>\n",
       "      <td>Industrials</td>\n",
       "      <td>COME.BA</td>\n",
       "      <td>Argentina</td>\n",
       "    </tr>\n",
       "    <tr>\n",
       "      <th>3</th>\n",
       "      <td>Banco Hipotecario S.A.</td>\n",
       "      <td>Financials</td>\n",
       "      <td>BHIP.BA</td>\n",
       "      <td>Argentina</td>\n",
       "    </tr>\n",
       "    <tr>\n",
       "      <th>4</th>\n",
       "      <td>Rigolleau S.A.</td>\n",
       "      <td>Consumer Defensive</td>\n",
       "      <td>RIGO.BA</td>\n",
       "      <td>Argentina</td>\n",
       "    </tr>\n",
       "  </tbody>\n",
       "</table>\n",
       "</div>"
      ],
      "text/plain": [
       "                                                Name                  Sector  \\\n",
       "0  Compañía de Transporte de Energía Eléctrica en...               Utilities   \n",
       "1                                Cisco Systems, Inc.  Information Technology   \n",
       "2                  Sociedad Comercial del Plata S.A.             Industrials   \n",
       "3                             Banco Hipotecario S.A.              Financials   \n",
       "4                                     Rigolleau S.A.      Consumer Defensive   \n",
       "\n",
       "    Ticker    Country  \n",
       "0  TRAN.BA  Argentina  \n",
       "1  CSCO.BA  Argentina  \n",
       "2  COME.BA  Argentina  \n",
       "3  BHIP.BA  Argentina  \n",
       "4  RIGO.BA  Argentina  "
      ]
     },
     "execution_count": 39,
     "metadata": {},
     "output_type": "execute_result"
    }
   ],
   "source": [
    "countries_stock.head()"
   ]
  },
  {
   "cell_type": "markdown",
   "metadata": {
    "editable": true
   },
   "source": [
    "Now that we have our data without missing values and with a simple structure, it's time to use _yfinances_ library to obtain all the stock market values for these companies."
   ]
  },
  {
   "cell_type": "markdown",
   "metadata": {
    "editable": true
   },
   "source": [
    "I'm going to set the date values to collect data for a little bit more thatn a year (400 days). That way we'll have enough data to really see the efects of the covid-19 to the stock market."
   ]
  },
  {
   "cell_type": "code",
   "execution_count": 40,
   "metadata": {
    "editable": true
   },
   "outputs": [],
   "source": [
    "actual_date = datetime.datetime.today()\n",
    "start = actual_date - datetime.timedelta(days=401)\n",
    "end = actual_date - datetime.timedelta(days=1)\n",
    "# end = datetime.datetime(actual_date.year, actual_date.month, actual_date.day-1)"
   ]
  },
  {
   "cell_type": "markdown",
   "metadata": {
    "editable": true
   },
   "source": [
    "Download the stock market values for each company."
   ]
  },
  {
   "cell_type": "code",
   "execution_count": 41,
   "metadata": {
    "editable": true
   },
   "outputs": [
    {
     "name": "stdout",
     "output_type": "stream",
     "text": [
      "[*********************100%***********************]  1891 of 1891 completed\n",
      "\n",
      "28 Failed downloads:\n",
      "- LAMDA.AT: No data found for this date range, symbol may be delisted\n",
      "- OPAP.AT: No data found for this date range, symbol may be delisted\n",
      "- NELES.HE: No data found for this date range, symbol may be delisted\n",
      "- PERGY.BD: No data found for this date range, symbol may be delisted\n",
      "- AEGN.AT: No data found for this date range, symbol may be delisted\n",
      "- TENERGY.AT: No data found for this date range, symbol may be delisted\n",
      "- SCH.OL: No data found for this date range, symbol may be delisted\n",
      "- PPC.AT: No data found for this date range, symbol may be delisted\n",
      "- EYDAP.AT: No data found for this date range, symbol may be delisted\n",
      "- TPEIR.AT: No data found for this date range, symbol may be delisted\n",
      "- ALPHA.AT: No data found for this date range, symbol may be delisted\n",
      "- ADMIE.AT: No data found for this date range, symbol may be delisted\n",
      "- BELA.AT: No data found for this date range, symbol may be delisted\n",
      "- SAR.AT: No data found for this date range, symbol may be delisted\n",
      "- PPA.AT: No data found for this date range, symbol may be delisted\n",
      "- VIO.AT: No data found for this date range, symbol may be delisted\n",
      "- ISGSY.IS: No data found for this date range, symbol may be delisted\n",
      "- MYTIL.AT: No data found for this date range, symbol may be delisted\n",
      "- MOCORP.HE: No data found for this date range, symbol may be delisted\n",
      "- EEE.AT: No data found for this date range, symbol may be delisted\n",
      "- ELPE.AT: No data found for this date range, symbol may be delisted\n",
      "- HTO.AT: No data found for this date range, symbol may be delisted\n",
      "- GEKTERNA.AT: No data found for this date range, symbol may be delisted\n",
      "- FFGRP.AT: No data found for this date range, symbol may be delisted\n",
      "- EUROB.AT: No data found for this date range, symbol may be delisted\n",
      "- MOH.AT: No data found for this date range, symbol may be delisted\n",
      "- ETE.AT: No data found for this date range, symbol may be delisted\n",
      "- GMALF: No data found for this date range, symbol may be delisted\n"
     ]
    }
   ],
   "source": [
    "stocks = countries_stock['Ticker'].to_list()\n",
    "stock_data = yf.download(stocks, start=start, end=end, group_by='tickers')"
   ]
  },
  {
   "cell_type": "markdown",
   "metadata": {
    "editable": true
   },
   "source": [
    "We can see in the output that it wasn't possible to obtain the data for some values. The reason for this is that some of the companies didn't have values for the date range given as a parameter (400 days since yesterday).\n",
    "That's way we can see in the output the next message: \"_No data found for this date range, symbol may be delisted_\"\n",
    "\n",
    "We can ignore this. It would work if we'd selected a different date range that contains all the values for every company.\n",
    "\n",
    "To avoid this message we could delete the companies listed above from our dataframe. I'm going to keep them so I have the chance to use them in case I'd like to use another date range."
   ]
  },
  {
   "cell_type": "markdown",
   "metadata": {
    "editable": true
   },
   "source": [
    "__Note: Because the _Tickers_ used by the companies vary with time it can also be possible that the failed downloads are due to the tickers provided in the dataframe in this repository being outdated. \n",
    "As of today (27/10/2020) all tickers in the dataframe are valid.__"
   ]
  },
  {
   "cell_type": "markdown",
   "metadata": {
    "editable": true
   },
   "source": [
    "***"
   ]
  },
  {
   "cell_type": "markdown",
   "metadata": {
    "editable": true
   },
   "source": [
    "Now I'm going to transform the new dataframe with the stock_data so it has the structure we've described in our Staging tables."
   ]
  },
  {
   "cell_type": "code",
   "execution_count": 42,
   "metadata": {
    "editable": true
   },
   "outputs": [],
   "source": [
    "stock_data = stock_data.stack(0).reset_index().rename(columns={'level_1': 'Ticker'})\n",
    "stock_data = stock_data.melt(id_vars = ['Date', 'Ticker'], value_vars=[\"Adj Close\", \"Close\", \"High\", \"Low\", \"Open\"], var_name = \"Value_type\", value_name = \"Value\")"
   ]
  },
  {
   "cell_type": "code",
   "execution_count": 43,
   "metadata": {
    "editable": true
   },
   "outputs": [
    {
     "data": {
      "text/html": [
       "<div>\n",
       "<style scoped>\n",
       "    .dataframe tbody tr th:only-of-type {\n",
       "        vertical-align: middle;\n",
       "    }\n",
       "\n",
       "    .dataframe tbody tr th {\n",
       "        vertical-align: top;\n",
       "    }\n",
       "\n",
       "    .dataframe thead th {\n",
       "        text-align: right;\n",
       "    }\n",
       "</style>\n",
       "<table border=\"1\" class=\"dataframe\">\n",
       "  <thead>\n",
       "    <tr style=\"text-align: right;\">\n",
       "      <th></th>\n",
       "      <th>Date</th>\n",
       "      <th>Ticker</th>\n",
       "      <th>Value_type</th>\n",
       "      <th>Value</th>\n",
       "    </tr>\n",
       "  </thead>\n",
       "  <tbody>\n",
       "    <tr>\n",
       "      <th>0</th>\n",
       "      <td>2019-09-22</td>\n",
       "      <td>ABQK.QA</td>\n",
       "      <td>Adj Close</td>\n",
       "      <td>3.302143</td>\n",
       "    </tr>\n",
       "    <tr>\n",
       "      <th>1</th>\n",
       "      <td>2019-09-22</td>\n",
       "      <td>AHCS.QA</td>\n",
       "      <td>Adj Close</td>\n",
       "      <td>0.660800</td>\n",
       "    </tr>\n",
       "    <tr>\n",
       "      <th>2</th>\n",
       "      <td>2019-09-22</td>\n",
       "      <td>AKHI.QA</td>\n",
       "      <td>Adj Close</td>\n",
       "      <td>1.762422</td>\n",
       "    </tr>\n",
       "    <tr>\n",
       "      <th>3</th>\n",
       "      <td>2019-09-22</td>\n",
       "      <td>ALHE.TA</td>\n",
       "      <td>Adj Close</td>\n",
       "      <td>4814.037109</td>\n",
       "    </tr>\n",
       "    <tr>\n",
       "      <th>4</th>\n",
       "      <td>2019-09-22</td>\n",
       "      <td>AMOT.TA</td>\n",
       "      <td>Adj Close</td>\n",
       "      <td>2350.587646</td>\n",
       "    </tr>\n",
       "  </tbody>\n",
       "</table>\n",
       "</div>"
      ],
      "text/plain": [
       "        Date   Ticker Value_type        Value\n",
       "0 2019-09-22  ABQK.QA  Adj Close     3.302143\n",
       "1 2019-09-22  AHCS.QA  Adj Close     0.660800\n",
       "2 2019-09-22  AKHI.QA  Adj Close     1.762422\n",
       "3 2019-09-22  ALHE.TA  Adj Close  4814.037109\n",
       "4 2019-09-22  AMOT.TA  Adj Close  2350.587646"
      ]
     },
     "execution_count": 43,
     "metadata": {},
     "output_type": "execute_result"
    }
   ],
   "source": [
    "stock_data.head()"
   ]
  },
  {
   "cell_type": "markdown",
   "metadata": {
    "editable": true
   },
   "source": [
    "Our data now has a row for each type of value obtained from _yahoo finances_.\n",
    "We need to add the columns with the sector, name of the company, country and country code that we had in our previous dataframe.\n",
    "\n",
    "Using the last dataframe we are going to create dictionaries to map all these values."
   ]
  },
  {
   "cell_type": "code",
   "execution_count": 44,
   "metadata": {
    "editable": true
   },
   "outputs": [],
   "source": [
    "# country_code = pd.Series(countries_stock.CC.values,index=countries_stock.Ticker).to_dict()\n",
    "countries = pd.Series(countries_stock.Country.values,index=countries_stock.Ticker).to_dict()\n",
    "names = pd.Series(countries_stock.Name.values,index=countries_stock.Ticker).to_dict()\n",
    "Sector = pd.Series(countries_stock.Sector.values,index=countries_stock.Ticker).to_dict()\n",
    "\n",
    "\n",
    "stock_data[\"Country\"] = stock_data[\"Ticker\"].map(countries)\n",
    "stock_data[\"Sector\"] = stock_data[\"Ticker\"].map(Sector)\n",
    "stock_data[\"Names\"] = stock_data[\"Ticker\"].map(names)\n",
    "# stock_data[\"CC\"] = stock_data[\"Ticker\"].map(country_code)"
   ]
  },
  {
   "cell_type": "markdown",
   "metadata": {
    "editable": true
   },
   "source": [
    "Staging Stock Table."
   ]
  },
  {
   "cell_type": "code",
   "execution_count": 45,
   "metadata": {
    "editable": true
   },
   "outputs": [
    {
     "data": {
      "text/html": [
       "<div>\n",
       "<style scoped>\n",
       "    .dataframe tbody tr th:only-of-type {\n",
       "        vertical-align: middle;\n",
       "    }\n",
       "\n",
       "    .dataframe tbody tr th {\n",
       "        vertical-align: top;\n",
       "    }\n",
       "\n",
       "    .dataframe thead th {\n",
       "        text-align: right;\n",
       "    }\n",
       "</style>\n",
       "<table border=\"1\" class=\"dataframe\">\n",
       "  <thead>\n",
       "    <tr style=\"text-align: right;\">\n",
       "      <th></th>\n",
       "      <th>Date</th>\n",
       "      <th>Ticker</th>\n",
       "      <th>Value_type</th>\n",
       "      <th>Value</th>\n",
       "      <th>Country</th>\n",
       "      <th>Sector</th>\n",
       "      <th>Names</th>\n",
       "    </tr>\n",
       "  </thead>\n",
       "  <tbody>\n",
       "    <tr>\n",
       "      <th>0</th>\n",
       "      <td>2019-09-22</td>\n",
       "      <td>ABQK.QA</td>\n",
       "      <td>Adj Close</td>\n",
       "      <td>3.302143</td>\n",
       "      <td>Qatar</td>\n",
       "      <td>Financials</td>\n",
       "      <td>Ahli Bank Q.S.C.</td>\n",
       "    </tr>\n",
       "    <tr>\n",
       "      <th>1</th>\n",
       "      <td>2019-09-22</td>\n",
       "      <td>AHCS.QA</td>\n",
       "      <td>Adj Close</td>\n",
       "      <td>0.660800</td>\n",
       "      <td>Qatar</td>\n",
       "      <td>Industrials</td>\n",
       "      <td>Aamal Company Q.P.S.C.</td>\n",
       "    </tr>\n",
       "    <tr>\n",
       "      <th>2</th>\n",
       "      <td>2019-09-22</td>\n",
       "      <td>AKHI.QA</td>\n",
       "      <td>Adj Close</td>\n",
       "      <td>1.762422</td>\n",
       "      <td>Qatar</td>\n",
       "      <td>Financials</td>\n",
       "      <td>Al Khaleej Takaful Group (Q.P.S.C.)</td>\n",
       "    </tr>\n",
       "    <tr>\n",
       "      <th>3</th>\n",
       "      <td>2019-09-22</td>\n",
       "      <td>ALHE.TA</td>\n",
       "      <td>Adj Close</td>\n",
       "      <td>4814.037109</td>\n",
       "      <td>Israel</td>\n",
       "      <td>Real Estate</td>\n",
       "      <td>Alony Hetz</td>\n",
       "    </tr>\n",
       "    <tr>\n",
       "      <th>4</th>\n",
       "      <td>2019-09-22</td>\n",
       "      <td>AMOT.TA</td>\n",
       "      <td>Adj Close</td>\n",
       "      <td>2350.587646</td>\n",
       "      <td>Israel</td>\n",
       "      <td>Real Estate</td>\n",
       "      <td>Amot Investments</td>\n",
       "    </tr>\n",
       "  </tbody>\n",
       "</table>\n",
       "</div>"
      ],
      "text/plain": [
       "        Date   Ticker Value_type        Value Country       Sector  \\\n",
       "0 2019-09-22  ABQK.QA  Adj Close     3.302143   Qatar   Financials   \n",
       "1 2019-09-22  AHCS.QA  Adj Close     0.660800   Qatar  Industrials   \n",
       "2 2019-09-22  AKHI.QA  Adj Close     1.762422   Qatar   Financials   \n",
       "3 2019-09-22  ALHE.TA  Adj Close  4814.037109  Israel  Real Estate   \n",
       "4 2019-09-22  AMOT.TA  Adj Close  2350.587646  Israel  Real Estate   \n",
       "\n",
       "                                 Names  \n",
       "0                     Ahli Bank Q.S.C.  \n",
       "1               Aamal Company Q.P.S.C.  \n",
       "2  Al Khaleej Takaful Group (Q.P.S.C.)  \n",
       "3                           Alony Hetz  \n",
       "4                     Amot Investments  "
      ]
     },
     "execution_count": 45,
     "metadata": {},
     "output_type": "execute_result"
    }
   ],
   "source": [
    "stock_data.head()"
   ]
  },
  {
   "cell_type": "markdown",
   "metadata": {
    "editable": true
   },
   "source": [
    "The final table contains more than 2.5 million rows."
   ]
  },
  {
   "cell_type": "code",
   "execution_count": 46,
   "metadata": {
    "editable": true
   },
   "outputs": [
    {
     "data": {
      "text/plain": [
       "2541750"
      ]
     },
     "execution_count": 46,
     "metadata": {},
     "output_type": "execute_result"
    }
   ],
   "source": [
    "# Number of rows\n",
    "len(stock_data)"
   ]
  },
  {
   "cell_type": "markdown",
   "metadata": {
    "editable": true
   },
   "source": [
    "One last check to make sure there is no missing data."
   ]
  },
  {
   "cell_type": "code",
   "execution_count": 47,
   "metadata": {
    "editable": true
   },
   "outputs": [
    {
     "data": {
      "text/plain": [
       "False"
      ]
     },
     "execution_count": 47,
     "metadata": {},
     "output_type": "execute_result"
    }
   ],
   "source": [
    "stock_data.isnull().values.any()"
   ]
  },
  {
   "cell_type": "markdown",
   "metadata": {
    "editable": true
   },
   "source": [
    "## STAGING STRINGENCY TABLE\n",
    "\n",
    "The file \"_Covid_Stringency_Index_\" collects information with the **Goverment Response Stringency Index** of each country during the pandemic.\n",
    "\n",
    "The data is collected from the **Oxford Coronavirus Goverment Response Tracker (OxCGRT project)**. This resource is publised by researchers at the Blavatnik School of Government at the University of Oxford: Thomas Hale, Anna Petherik, Beatriz Kira, Noam Angrist, Toby Phillips and Samuel Webster.\n",
    "\n",
    "Here you can find out more information about the data and download the complete dataset: https://ourworldindata.org/policy-responses-covid#schools-closures\n",
    "\n",
    "_Covid_Stringency_Index_ is a composite measure based on nine response indicators including: \n",
    "- School closures\n",
    "- Workplace closures\n",
    "- Cancellation of public events\n",
    "- Restrinctions on public gatherings\n",
    "- Closures of public transport\n",
    "- Stay-At-Home requirements\n",
    "- Public information campaigns\n",
    "- Restrictions on internal movements\n",
    "- International travel controls\n",
    "\n",
    "The index is rescaled to a value from 0 to 100. A higher score indicates a stricter government response (i.e. 100 = strictest response).\n",
    "Here you can find the author's full description of how this index is calculated: https://github.com/OxCGRT/covid-policy-tracker/blob/master/documentation/index_methodology.md\n"
   ]
  },
  {
   "cell_type": "code",
   "execution_count": 48,
   "metadata": {
    "editable": true
   },
   "outputs": [],
   "source": [
    "countries_stringency = pd.read_csv(\"./Data/Covid_Stringency_Index.csv\", delimiter=\",\", encoding='utf-8')"
   ]
  },
  {
   "cell_type": "markdown",
   "metadata": {
    "editable": true
   },
   "source": [
    "This is the structure the data has."
   ]
  },
  {
   "cell_type": "code",
   "execution_count": 49,
   "metadata": {
    "editable": true,
    "scrolled": true
   },
   "outputs": [
    {
     "data": {
      "text/html": [
       "<div>\n",
       "<style scoped>\n",
       "    .dataframe tbody tr th:only-of-type {\n",
       "        vertical-align: middle;\n",
       "    }\n",
       "\n",
       "    .dataframe tbody tr th {\n",
       "        vertical-align: top;\n",
       "    }\n",
       "\n",
       "    .dataframe thead th {\n",
       "        text-align: right;\n",
       "    }\n",
       "</style>\n",
       "<table border=\"1\" class=\"dataframe\">\n",
       "  <thead>\n",
       "    <tr style=\"text-align: right;\">\n",
       "      <th></th>\n",
       "      <th>Entity</th>\n",
       "      <th>Code</th>\n",
       "      <th>Date</th>\n",
       "      <th>Stringency Index (OxBSG)</th>\n",
       "    </tr>\n",
       "  </thead>\n",
       "  <tbody>\n",
       "    <tr>\n",
       "      <th>0</th>\n",
       "      <td>Afghanistan</td>\n",
       "      <td>AFG</td>\n",
       "      <td>2020-01-01</td>\n",
       "      <td>0.0</td>\n",
       "    </tr>\n",
       "    <tr>\n",
       "      <th>1</th>\n",
       "      <td>Afghanistan</td>\n",
       "      <td>AFG</td>\n",
       "      <td>2020-01-02</td>\n",
       "      <td>0.0</td>\n",
       "    </tr>\n",
       "    <tr>\n",
       "      <th>2</th>\n",
       "      <td>Afghanistan</td>\n",
       "      <td>AFG</td>\n",
       "      <td>2020-01-03</td>\n",
       "      <td>0.0</td>\n",
       "    </tr>\n",
       "    <tr>\n",
       "      <th>3</th>\n",
       "      <td>Afghanistan</td>\n",
       "      <td>AFG</td>\n",
       "      <td>2020-01-04</td>\n",
       "      <td>0.0</td>\n",
       "    </tr>\n",
       "    <tr>\n",
       "      <th>4</th>\n",
       "      <td>Afghanistan</td>\n",
       "      <td>AFG</td>\n",
       "      <td>2020-01-05</td>\n",
       "      <td>0.0</td>\n",
       "    </tr>\n",
       "  </tbody>\n",
       "</table>\n",
       "</div>"
      ],
      "text/plain": [
       "        Entity Code        Date  Stringency Index (OxBSG)\n",
       "0  Afghanistan  AFG  2020-01-01                       0.0\n",
       "1  Afghanistan  AFG  2020-01-02                       0.0\n",
       "2  Afghanistan  AFG  2020-01-03                       0.0\n",
       "3  Afghanistan  AFG  2020-01-04                       0.0\n",
       "4  Afghanistan  AFG  2020-01-05                       0.0"
      ]
     },
     "execution_count": 49,
     "metadata": {},
     "output_type": "execute_result"
    }
   ],
   "source": [
    "countries_stringency.head()"
   ]
  },
  {
   "cell_type": "markdown",
   "metadata": {
    "editable": true
   },
   "source": [
    "The code column corresponds with the country ISO codes as described in the ISO 3166 international standard."
   ]
  },
  {
   "cell_type": "markdown",
   "metadata": {
    "editable": true
   },
   "source": [
    "Because the file _Covid_Stringency_Index_ dates back to the beginning of January 2020, I'm going to expand this dataframe to match the date range of our other dataframe (since 401 days ago)."
   ]
  },
  {
   "cell_type": "code",
   "execution_count": 50,
   "metadata": {
    "editable": true
   },
   "outputs": [
    {
     "data": {
      "text/plain": [
       "datetime.date(2019, 9, 22)"
      ]
     },
     "execution_count": 50,
     "metadata": {},
     "output_type": "execute_result"
    }
   ],
   "source": [
    "# Our start date in our other dataframe\n",
    "start.date()"
   ]
  },
  {
   "cell_type": "markdown",
   "metadata": {
    "editable": true
   },
   "source": [
    "I'm going to create an auxiliar dataframe with the first date of all the countries in our _Covid_Stringency_Index_."
   ]
  },
  {
   "cell_type": "code",
   "execution_count": 51,
   "metadata": {
    "editable": true
   },
   "outputs": [],
   "source": [
    "# aux_data = countries_stringency[countries_stringency['Date'] == min(countries_stringency['Date']).strftime(\"%Y-%m-%d\")]\n",
    "aux_data = countries_stringency.groupby(['Entity'], as_index = False).min()"
   ]
  },
  {
   "cell_type": "code",
   "execution_count": 52,
   "metadata": {
    "editable": true,
    "scrolled": true
   },
   "outputs": [
    {
     "data": {
      "text/html": [
       "<div>\n",
       "<style scoped>\n",
       "    .dataframe tbody tr th:only-of-type {\n",
       "        vertical-align: middle;\n",
       "    }\n",
       "\n",
       "    .dataframe tbody tr th {\n",
       "        vertical-align: top;\n",
       "    }\n",
       "\n",
       "    .dataframe thead th {\n",
       "        text-align: right;\n",
       "    }\n",
       "</style>\n",
       "<table border=\"1\" class=\"dataframe\">\n",
       "  <thead>\n",
       "    <tr style=\"text-align: right;\">\n",
       "      <th></th>\n",
       "      <th>Entity</th>\n",
       "      <th>Code</th>\n",
       "      <th>Date</th>\n",
       "      <th>Stringency Index (OxBSG)</th>\n",
       "    </tr>\n",
       "  </thead>\n",
       "  <tbody>\n",
       "    <tr>\n",
       "      <th>0</th>\n",
       "      <td>Afghanistan</td>\n",
       "      <td>AFG</td>\n",
       "      <td>2020-01-01</td>\n",
       "      <td>0.0</td>\n",
       "    </tr>\n",
       "    <tr>\n",
       "      <th>1</th>\n",
       "      <td>Albania</td>\n",
       "      <td>ALB</td>\n",
       "      <td>2020-01-01</td>\n",
       "      <td>0.0</td>\n",
       "    </tr>\n",
       "    <tr>\n",
       "      <th>2</th>\n",
       "      <td>Algeria</td>\n",
       "      <td>DZA</td>\n",
       "      <td>2020-01-01</td>\n",
       "      <td>0.0</td>\n",
       "    </tr>\n",
       "    <tr>\n",
       "      <th>3</th>\n",
       "      <td>Andorra</td>\n",
       "      <td>AND</td>\n",
       "      <td>2020-01-01</td>\n",
       "      <td>0.0</td>\n",
       "    </tr>\n",
       "    <tr>\n",
       "      <th>4</th>\n",
       "      <td>Angola</td>\n",
       "      <td>AGO</td>\n",
       "      <td>2020-01-01</td>\n",
       "      <td>0.0</td>\n",
       "    </tr>\n",
       "  </tbody>\n",
       "</table>\n",
       "</div>"
      ],
      "text/plain": [
       "        Entity Code        Date  Stringency Index (OxBSG)\n",
       "0  Afghanistan  AFG  2020-01-01                       0.0\n",
       "1      Albania  ALB  2020-01-01                       0.0\n",
       "2      Algeria  DZA  2020-01-01                       0.0\n",
       "3      Andorra  AND  2020-01-01                       0.0\n",
       "4       Angola  AGO  2020-01-01                       0.0"
      ]
     },
     "execution_count": 52,
     "metadata": {},
     "output_type": "execute_result"
    }
   ],
   "source": [
    "aux_data.head()"
   ]
  },
  {
   "cell_type": "markdown",
   "metadata": {
    "editable": true
   },
   "source": [
    "Now I'm going to expand this dataframe back to the first date we have in our _stock_data_ dataframe, and I'm going to set their _Stringency Index_ to: \"0.0\" (the lowest stringency value that corresponds to a country that hasn't took any measure yet regarding covid-19)."
   ]
  },
  {
   "cell_type": "code",
   "execution_count": 53,
   "metadata": {
    "editable": true
   },
   "outputs": [],
   "source": [
    "prev_data = pd.concat([pd.DataFrame({'Entity' : row.Entity, 'Code': row.Code, 'Date': pd.date_range(start, aux_data['Date'].min(), freq='D').strftime(\"%Y-%m-%d\"), 'Stringency Index (OxBSG)': 0.0}, columns=['Entity', 'Code','Date', 'Stringency Index (OxBSG)'])\n",
    "          for i, row in aux_data.iterrows()], ignore_index = True)"
   ]
  },
  {
   "cell_type": "code",
   "execution_count": 54,
   "metadata": {
    "editable": true
   },
   "outputs": [
    {
     "data": {
      "text/html": [
       "<div>\n",
       "<style scoped>\n",
       "    .dataframe tbody tr th:only-of-type {\n",
       "        vertical-align: middle;\n",
       "    }\n",
       "\n",
       "    .dataframe tbody tr th {\n",
       "        vertical-align: top;\n",
       "    }\n",
       "\n",
       "    .dataframe thead th {\n",
       "        text-align: right;\n",
       "    }\n",
       "</style>\n",
       "<table border=\"1\" class=\"dataframe\">\n",
       "  <thead>\n",
       "    <tr style=\"text-align: right;\">\n",
       "      <th></th>\n",
       "      <th>Entity</th>\n",
       "      <th>Code</th>\n",
       "      <th>Date</th>\n",
       "      <th>Stringency Index (OxBSG)</th>\n",
       "    </tr>\n",
       "  </thead>\n",
       "  <tbody>\n",
       "    <tr>\n",
       "      <th>0</th>\n",
       "      <td>Afghanistan</td>\n",
       "      <td>AFG</td>\n",
       "      <td>2019-09-22</td>\n",
       "      <td>0.0</td>\n",
       "    </tr>\n",
       "    <tr>\n",
       "      <th>1</th>\n",
       "      <td>Afghanistan</td>\n",
       "      <td>AFG</td>\n",
       "      <td>2019-09-23</td>\n",
       "      <td>0.0</td>\n",
       "    </tr>\n",
       "    <tr>\n",
       "      <th>2</th>\n",
       "      <td>Afghanistan</td>\n",
       "      <td>AFG</td>\n",
       "      <td>2019-09-24</td>\n",
       "      <td>0.0</td>\n",
       "    </tr>\n",
       "    <tr>\n",
       "      <th>3</th>\n",
       "      <td>Afghanistan</td>\n",
       "      <td>AFG</td>\n",
       "      <td>2019-09-25</td>\n",
       "      <td>0.0</td>\n",
       "    </tr>\n",
       "    <tr>\n",
       "      <th>4</th>\n",
       "      <td>Afghanistan</td>\n",
       "      <td>AFG</td>\n",
       "      <td>2019-09-26</td>\n",
       "      <td>0.0</td>\n",
       "    </tr>\n",
       "    <tr>\n",
       "      <th>...</th>\n",
       "      <td>...</td>\n",
       "      <td>...</td>\n",
       "      <td>...</td>\n",
       "      <td>...</td>\n",
       "    </tr>\n",
       "    <tr>\n",
       "      <th>18680</th>\n",
       "      <td>Zimbabwe</td>\n",
       "      <td>ZWE</td>\n",
       "      <td>2019-12-27</td>\n",
       "      <td>0.0</td>\n",
       "    </tr>\n",
       "    <tr>\n",
       "      <th>18681</th>\n",
       "      <td>Zimbabwe</td>\n",
       "      <td>ZWE</td>\n",
       "      <td>2019-12-28</td>\n",
       "      <td>0.0</td>\n",
       "    </tr>\n",
       "    <tr>\n",
       "      <th>18682</th>\n",
       "      <td>Zimbabwe</td>\n",
       "      <td>ZWE</td>\n",
       "      <td>2019-12-29</td>\n",
       "      <td>0.0</td>\n",
       "    </tr>\n",
       "    <tr>\n",
       "      <th>18683</th>\n",
       "      <td>Zimbabwe</td>\n",
       "      <td>ZWE</td>\n",
       "      <td>2019-12-30</td>\n",
       "      <td>0.0</td>\n",
       "    </tr>\n",
       "    <tr>\n",
       "      <th>18684</th>\n",
       "      <td>Zimbabwe</td>\n",
       "      <td>ZWE</td>\n",
       "      <td>2019-12-31</td>\n",
       "      <td>0.0</td>\n",
       "    </tr>\n",
       "  </tbody>\n",
       "</table>\n",
       "<p>18685 rows × 4 columns</p>\n",
       "</div>"
      ],
      "text/plain": [
       "            Entity Code        Date  Stringency Index (OxBSG)\n",
       "0      Afghanistan  AFG  2019-09-22                       0.0\n",
       "1      Afghanistan  AFG  2019-09-23                       0.0\n",
       "2      Afghanistan  AFG  2019-09-24                       0.0\n",
       "3      Afghanistan  AFG  2019-09-25                       0.0\n",
       "4      Afghanistan  AFG  2019-09-26                       0.0\n",
       "...            ...  ...         ...                       ...\n",
       "18680     Zimbabwe  ZWE  2019-12-27                       0.0\n",
       "18681     Zimbabwe  ZWE  2019-12-28                       0.0\n",
       "18682     Zimbabwe  ZWE  2019-12-29                       0.0\n",
       "18683     Zimbabwe  ZWE  2019-12-30                       0.0\n",
       "18684     Zimbabwe  ZWE  2019-12-31                       0.0\n",
       "\n",
       "[18685 rows x 4 columns]"
      ]
     },
     "execution_count": 54,
     "metadata": {},
     "output_type": "execute_result"
    }
   ],
   "source": [
    "prev_data"
   ]
  },
  {
   "cell_type": "markdown",
   "metadata": {
    "editable": true
   },
   "source": [
    "All I need to do now is concatenate this dataframe with our original _Covid_Stringency_Index_ dataframe and we'll have the _STAGING STRINGENCY TABLE_ with the complete date range."
   ]
  },
  {
   "cell_type": "code",
   "execution_count": 55,
   "metadata": {
    "editable": true
   },
   "outputs": [],
   "source": [
    "# Complete data\n",
    "countries_stringency = pd.concat([prev_data, countries_stringency])"
   ]
  },
  {
   "cell_type": "code",
   "execution_count": 56,
   "metadata": {
    "editable": true
   },
   "outputs": [],
   "source": [
    "# Renaming Entity column\n",
    "countries_stringency = countries_stringency.rename(columns={'Entity': 'Country', 'Stringency Index (OxBSG)': 'Stringency_Index'})"
   ]
  },
  {
   "cell_type": "code",
   "execution_count": 57,
   "metadata": {
    "editable": true
   },
   "outputs": [
    {
     "data": {
      "text/html": [
       "<div>\n",
       "<style scoped>\n",
       "    .dataframe tbody tr th:only-of-type {\n",
       "        vertical-align: middle;\n",
       "    }\n",
       "\n",
       "    .dataframe tbody tr th {\n",
       "        vertical-align: top;\n",
       "    }\n",
       "\n",
       "    .dataframe thead th {\n",
       "        text-align: right;\n",
       "    }\n",
       "</style>\n",
       "<table border=\"1\" class=\"dataframe\">\n",
       "  <thead>\n",
       "    <tr style=\"text-align: right;\">\n",
       "      <th></th>\n",
       "      <th>Country</th>\n",
       "      <th>Code</th>\n",
       "      <th>Date</th>\n",
       "      <th>Stringency_Index</th>\n",
       "    </tr>\n",
       "  </thead>\n",
       "  <tbody>\n",
       "    <tr>\n",
       "      <th>0</th>\n",
       "      <td>Afghanistan</td>\n",
       "      <td>AFG</td>\n",
       "      <td>2019-09-22</td>\n",
       "      <td>0.0</td>\n",
       "    </tr>\n",
       "    <tr>\n",
       "      <th>1</th>\n",
       "      <td>Afghanistan</td>\n",
       "      <td>AFG</td>\n",
       "      <td>2019-09-23</td>\n",
       "      <td>0.0</td>\n",
       "    </tr>\n",
       "    <tr>\n",
       "      <th>2</th>\n",
       "      <td>Afghanistan</td>\n",
       "      <td>AFG</td>\n",
       "      <td>2019-09-24</td>\n",
       "      <td>0.0</td>\n",
       "    </tr>\n",
       "    <tr>\n",
       "      <th>3</th>\n",
       "      <td>Afghanistan</td>\n",
       "      <td>AFG</td>\n",
       "      <td>2019-09-25</td>\n",
       "      <td>0.0</td>\n",
       "    </tr>\n",
       "    <tr>\n",
       "      <th>4</th>\n",
       "      <td>Afghanistan</td>\n",
       "      <td>AFG</td>\n",
       "      <td>2019-09-26</td>\n",
       "      <td>0.0</td>\n",
       "    </tr>\n",
       "    <tr>\n",
       "      <th>...</th>\n",
       "      <td>...</td>\n",
       "      <td>...</td>\n",
       "      <td>...</td>\n",
       "      <td>...</td>\n",
       "    </tr>\n",
       "    <tr>\n",
       "      <th>54243</th>\n",
       "      <td>Zimbabwe</td>\n",
       "      <td>ZWE</td>\n",
       "      <td>2020-10-23</td>\n",
       "      <td>71.3</td>\n",
       "    </tr>\n",
       "    <tr>\n",
       "      <th>54244</th>\n",
       "      <td>Zimbabwe</td>\n",
       "      <td>ZWE</td>\n",
       "      <td>2020-10-24</td>\n",
       "      <td>71.3</td>\n",
       "    </tr>\n",
       "    <tr>\n",
       "      <th>54245</th>\n",
       "      <td>Zimbabwe</td>\n",
       "      <td>ZWE</td>\n",
       "      <td>2020-10-25</td>\n",
       "      <td>71.3</td>\n",
       "    </tr>\n",
       "    <tr>\n",
       "      <th>54246</th>\n",
       "      <td>Zimbabwe</td>\n",
       "      <td>ZWE</td>\n",
       "      <td>2020-10-26</td>\n",
       "      <td>71.3</td>\n",
       "    </tr>\n",
       "    <tr>\n",
       "      <th>54247</th>\n",
       "      <td>Zimbabwe</td>\n",
       "      <td>ZWE</td>\n",
       "      <td>2020-10-27</td>\n",
       "      <td>71.3</td>\n",
       "    </tr>\n",
       "  </tbody>\n",
       "</table>\n",
       "<p>72933 rows × 4 columns</p>\n",
       "</div>"
      ],
      "text/plain": [
       "           Country Code        Date  Stringency_Index\n",
       "0      Afghanistan  AFG  2019-09-22               0.0\n",
       "1      Afghanistan  AFG  2019-09-23               0.0\n",
       "2      Afghanistan  AFG  2019-09-24               0.0\n",
       "3      Afghanistan  AFG  2019-09-25               0.0\n",
       "4      Afghanistan  AFG  2019-09-26               0.0\n",
       "...            ...  ...         ...               ...\n",
       "54243     Zimbabwe  ZWE  2020-10-23              71.3\n",
       "54244     Zimbabwe  ZWE  2020-10-24              71.3\n",
       "54245     Zimbabwe  ZWE  2020-10-25              71.3\n",
       "54246     Zimbabwe  ZWE  2020-10-26              71.3\n",
       "54247     Zimbabwe  ZWE  2020-10-27              71.3\n",
       "\n",
       "[72933 rows x 4 columns]"
      ]
     },
     "execution_count": 57,
     "metadata": {},
     "output_type": "execute_result"
    }
   ],
   "source": [
    "countries_stringency"
   ]
  },
  {
   "cell_type": "markdown",
   "metadata": {
    "editable": true
   },
   "source": [
    "Let's check for any missing or duplicated values."
   ]
  },
  {
   "cell_type": "code",
   "execution_count": 58,
   "metadata": {
    "editable": true
   },
   "outputs": [
    {
     "data": {
      "text/plain": [
       "False"
      ]
     },
     "execution_count": 58,
     "metadata": {},
     "output_type": "execute_result"
    }
   ],
   "source": [
    "countries_stringency.isnull().values.any()"
   ]
  },
  {
   "cell_type": "code",
   "execution_count": 59,
   "metadata": {
    "editable": true
   },
   "outputs": [
    {
     "data": {
      "text/plain": [
       "False"
      ]
     },
     "execution_count": 59,
     "metadata": {},
     "output_type": "execute_result"
    }
   ],
   "source": [
    "countries_stringency.duplicated(subset=['Country', 'Date'], keep=False).any()"
   ]
  },
  {
   "cell_type": "markdown",
   "metadata": {
    "editable": true
   },
   "source": [
    "***"
   ]
  },
  {
   "cell_type": "markdown",
   "metadata": {
    "editable": true
   },
   "source": [
    "Finally, I'll upload these two staging tables to an S3 bucket to access it later on to create our database."
   ]
  },
  {
   "cell_type": "code",
   "execution_count": 60,
   "metadata": {
    "editable": true
   },
   "outputs": [],
   "source": [
    "config = configparser.ConfigParser()\n",
    "config.read('Cp.cfg')\n",
    "KEY = config.get('AWS', 'AWS_ACCESS_KEY_ID')\n",
    "SECRET =config.get('AWS','AWS_SECRET_ACCESS_KEY')\n",
    "# os.environ['AWS_DEFAULT_REGION'] = 'eu-west-2'\n",
    "s3 = boto3.resource('s3',\n",
    "                       region_name=\"eu-west-3\",\n",
    "                       aws_access_key_id=KEY,\n",
    "                       aws_secret_access_key=SECRET\n",
    "                   )"
   ]
  },
  {
   "cell_type": "code",
   "execution_count": 61,
   "metadata": {
    "editable": true
   },
   "outputs": [
    {
     "data": {
      "text/plain": [
       "s3.Bucket(name='capstone-project-udaz')"
      ]
     },
     "execution_count": 61,
     "metadata": {},
     "output_type": "execute_result"
    }
   ],
   "source": [
    "# We can skip this step if we already have an S3 bucket created\n",
    "s3.create_bucket(Bucket='capstone-project-udaz', CreateBucketConfiguration={'LocationConstraint': \"eu-west-3\"})"
   ]
  },
  {
   "cell_type": "code",
   "execution_count": 62,
   "metadata": {
    "editable": true
   },
   "outputs": [
    {
     "data": {
      "text/plain": [
       "{'ResponseMetadata': {'RequestId': 'A34C2C6516BB2301',\n",
       "  'HostId': 'u9jeCNT9P2w14Xb2JGVnpdnfufydwgN5YYORNDipz8K3peeA2eDHwAsjfTPfIMklC3F9tDtK6Ro=',\n",
       "  'HTTPStatusCode': 200,\n",
       "  'HTTPHeaders': {'x-amz-id-2': 'u9jeCNT9P2w14Xb2JGVnpdnfufydwgN5YYORNDipz8K3peeA2eDHwAsjfTPfIMklC3F9tDtK6Ro=',\n",
       "   'x-amz-request-id': 'A34C2C6516BB2301',\n",
       "   'date': 'Tue, 27 Oct 2020 18:09:19 GMT',\n",
       "   'etag': '\"456e93465fe72fcffd35a4ec55ac9f1e\"',\n",
       "   'content-length': '0',\n",
       "   'server': 'AmazonS3'},\n",
       "  'RetryAttempts': 0},\n",
       " 'ETag': '\"456e93465fe72fcffd35a4ec55ac9f1e\"'}"
      ]
     },
     "execution_count": 62,
     "metadata": {},
     "output_type": "execute_result"
    }
   ],
   "source": [
    "# from io import StringIO \n",
    "\n",
    "bucket = 'capstone-project-udaz' # already created on S3\n",
    "csv_buffer = StringIO()\n",
    "\n",
    "countries_stringency.to_csv(csv_buffer, sep= \";\", header = True, index = False)\n",
    "s3.Object(bucket, 'Staging_stringency_table.csv').put(Body=csv_buffer.getvalue())\n",
    "\n",
    "\n",
    "csv_buffer = StringIO()\n",
    "stock_data.to_csv(csv_buffer, sep= \";\", header = True, index = False)\n",
    "s3.Object(bucket, 'Staging_stock_table.csv').put(Body=csv_buffer.getvalue())\n"
   ]
  },
  {
   "cell_type": "markdown",
   "metadata": {
    "editable": true
   },
   "source": [
    "With the data loaded in the S3 bucket we can now run the Etl.py file to create our fact and dimensional tables."
   ]
  },
  {
   "cell_type": "markdown",
   "metadata": {
    "editable": true
   },
   "source": [
    "***"
   ]
  }
 ],
 "metadata": {
  "kernelspec": {
   "display_name": "Python 3",
   "language": "python",
   "name": "python3"
  },
  "language_info": {
   "codemirror_mode": {
    "name": "ipython",
    "version": 3
   },
   "file_extension": ".py",
   "mimetype": "text/x-python",
   "name": "python",
   "nbconvert_exporter": "python",
   "pygments_lexer": "ipython3",
   "version": "3.6.3"
  }
 },
 "nbformat": 4,
 "nbformat_minor": 4
}
