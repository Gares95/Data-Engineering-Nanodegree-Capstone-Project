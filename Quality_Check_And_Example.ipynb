{
 "cells": [
  {
   "cell_type": "markdown",
   "metadata": {
    "editable": true
   },
   "source": [
    "# Quality Check"
   ]
  },
  {
   "cell_type": "markdown",
   "metadata": {
    "editable": true
   },
   "source": [
    "To assess that the data has been loaded correctly, I'm going to verify that there are no corrupted values and that the dimensions, columns, and rows correspond with the right format."
   ]
  },
  {
   "cell_type": "code",
   "execution_count": 1,
   "metadata": {
    "editable": true
   },
   "outputs": [],
   "source": [
    "import configparser\n",
    "from datetime import datetime\n",
    "import boto3, os\n",
    "from pyspark.sql import SparkSession\n",
    "from pyspark.sql.functions import udf, col\n",
    "from pyspark.sql.functions import year, month, dayofmonth, hour, weekofyear, dayofweek, date_format\n",
    "\n",
    "import matplotlib.pyplot as plt "
   ]
  },
  {
   "cell_type": "code",
   "execution_count": 2,
   "metadata": {
    "editable": true
   },
   "outputs": [],
   "source": [
    "spark = SparkSession \\\n",
    "        .builder \\\n",
    "        .config(\"spark.jars.packages\", \"org.apache.hadoop:hadoop-aws:2.7.0\") \\\n",
    "        .getOrCreate()"
   ]
  },
  {
   "cell_type": "code",
   "execution_count": 3,
   "metadata": {
    "editable": true
   },
   "outputs": [],
   "source": [
    "output_data = \"s3a://capstone-project-udaz/Output_Data/\""
   ]
  },
  {
   "cell_type": "markdown",
   "metadata": {
    "editable": true
   },
   "source": [
    "I'll display the structure of the tables in our Data Lake to confirm that the ETL has worked properly."
   ]
  },
  {
   "cell_type": "code",
   "execution_count": 4,
   "metadata": {
    "editable": true
   },
   "outputs": [],
   "source": [
    "# Countries table\n",
    "countries_df = spark.read.parquet(os.path.join(output_data, \"countries/*.parquet\"))"
   ]
  },
  {
   "cell_type": "code",
   "execution_count": 5,
   "metadata": {
    "editable": true
   },
   "outputs": [
    {
     "name": "stdout",
     "output_type": "stream",
     "text": [
      "+------------+--------------------+\n",
      "|country_code|             country|\n",
      "+------------+--------------------+\n",
      "|         COD|Democratic Republ...|\n",
      "|         VGB|British Virgin Is...|\n",
      "|         BIH|Bosnia and Herzeg...|\n",
      "|         ARE|United Arab Emirates|\n",
      "|         CIV|       Cote d'Ivoire|\n",
      "+------------+--------------------+\n",
      "only showing top 5 rows\n",
      "\n"
     ]
    }
   ],
   "source": [
    "countries_df.show(5)"
   ]
  },
  {
   "cell_type": "code",
   "execution_count": 6,
   "metadata": {
    "editable": true
   },
   "outputs": [],
   "source": [
    "# Time table\n",
    "time_df = spark.read.parquet(os.path.join(output_data, \"times/*.parquet\"))"
   ]
  },
  {
   "cell_type": "code",
   "execution_count": 7,
   "metadata": {
    "editable": true
   },
   "outputs": [
    {
     "name": "stdout",
     "output_type": "stream",
     "text": [
      "+--------+--------------------+--------------------+\n",
      "|stock_id|        company_name|              sector|\n",
      "+--------+--------------------+--------------------+\n",
      "|  ALL.AX|  Aristocrat Leisure|Consumer Discreti...|\n",
      "|   BKG.L|Berkeley Group Ho...|Consumer Discreti...|\n",
      "|     EFX|        Equifax Inc.|         Industrials|\n",
      "|     FLS|Flowserve Corpora...|         Industrials|\n",
      "|     IFF|International Fla...|           Materials|\n",
      "|   KL.TO|Kirkland Lake Gol...|           Materials|\n",
      "|  LIN.DE|               Linde|           Materials|\n",
      "| MUV2.DE|           Munich Re|          Financials|\n",
      "|   NA.TO|National Bank of ...|          Financials|\n",
      "|  NAB.AX|National Australi...|          Financials|\n",
      "|  NZX.NZ|         NZX Limited|          Financials|\n",
      "|   PNN.L|        Pennon Group|  Consumer Defensive|\n",
      "|     REG|Regency Centers C...|         Real Estate|\n",
      "|RRR1R.RG|AS VEF Radiotehni...|Information Techn...|\n",
      "|  STO.AX|              Santos|              Energy|\n",
      "|     TEL|TE Connectivity Ltd.|Information Techn...|\n",
      "|    OTIS|      Otis Worldwide|         Industrials|\n",
      "| MPHC.QA|Mesaieed Petroche...|           Materials|\n",
      "|    ABMD|         ABIOMED Inc|          Healthcare|\n",
      "|     AJG|Arthur J. Gallagh...|          Financials|\n",
      "+--------+--------------------+--------------------+\n",
      "only showing top 20 rows\n",
      "\n"
     ]
    }
   ],
   "source": [
    "stocks_df = spark.read.parquet(os.path.join(output_data, \"stocks/*.parquet\")).show()"
   ]
  },
  {
   "cell_type": "code",
   "execution_count": 8,
   "metadata": {
    "editable": true
   },
   "outputs": [],
   "source": [
    "# Ec_status table (fact table)\n",
    "Ec_status_df = spark.read.parquet(os.path.join(output_data, \"Ec_status/*.parquet\"))"
   ]
  },
  {
   "cell_type": "code",
   "execution_count": 9,
   "metadata": {
    "editable": true
   },
   "outputs": [
    {
     "name": "stdout",
     "output_type": "stream",
     "text": [
      "root\n",
      " |-- ec_status_id: long (nullable = true)\n",
      " |-- date: timestamp (nullable = true)\n",
      " |-- country_code: string (nullable = true)\n",
      " |-- stringency_index: double (nullable = true)\n",
      " |-- stock_id: string (nullable = true)\n",
      " |-- value_type: string (nullable = true)\n",
      " |-- value: double (nullable = true)\n",
      "\n"
     ]
    }
   ],
   "source": [
    "Ec_status_df.printSchema()"
   ]
  },
  {
   "cell_type": "code",
   "execution_count": 10,
   "metadata": {
    "editable": true
   },
   "outputs": [
    {
     "name": "stdout",
     "output_type": "stream",
     "text": [
      "+------------+-------------------+------------+----------------+--------+----------+------------------+\n",
      "|ec_status_id|               date|country_code|stringency_index|stock_id|value_type|             value|\n",
      "+------------+-------------------+------------+----------------+--------+----------+------------------+\n",
      "|         199|2019-09-23 00:00:00|         FRA|             0.0|   AI.PA| Adj Close| 115.6096420288086|\n",
      "|         223|2019-09-23 00:00:00|         TUR|             0.0|ALGYO.IS| Adj Close| 7.978088855743408|\n",
      "|         550|2019-09-23 00:00:00|         USA|             0.0|     DHR| Adj Close|143.78990173339844|\n",
      "|         689|2019-09-23 00:00:00|         USA|             0.0|     FMC| Adj Close| 86.64683532714844|\n",
      "|         970|2019-09-23 00:00:00|         DEU|             0.0|  LIN.DE| Adj Close| 171.9288330078125|\n",
      "+------------+-------------------+------------+----------------+--------+----------+------------------+\n",
      "only showing top 5 rows\n",
      "\n"
     ]
    }
   ],
   "source": [
    "Ec_status_df.show(5)"
   ]
  },
  {
   "cell_type": "code",
   "execution_count": 11,
   "metadata": {
    "editable": true
   },
   "outputs": [
    {
     "name": "stdout",
     "output_type": "stream",
     "text": [
      "Data has no duplicates\n"
     ]
    }
   ],
   "source": [
    "# Checking duplicates\n",
    "if Ec_status_df.count() > Ec_status_df.dropDuplicates(Ec_status_df.columns).count():\n",
    "    raise ValueError('Data has duplicates')\n",
    "else:\n",
    "    print(\"Data has no duplicates\")"
   ]
  },
  {
   "cell_type": "code",
   "execution_count": 12,
   "metadata": {
    "editable": true
   },
   "outputs": [
    {
     "name": "stdout",
     "output_type": "stream",
     "text": [
      "+------------+----+------------+----------------+--------+----------+-----+\n",
      "|ec_status_id|date|country_code|stringency_index|stock_id|value_type|value|\n",
      "+------------+----+------------+----------------+--------+----------+-----+\n",
      "|           0|   0|           0|               0|       0|         0|    0|\n",
      "+------------+----+------------+----------------+--------+----------+-----+\n",
      "\n"
     ]
    }
   ],
   "source": [
    "#  Check for missing values\n",
    "from pyspark.sql.functions import isnan, when, count, col\n",
    "Ec_status_df.select([count(when(col(c).isNull(), c)).alias(c) for c in Ec_status_df.columns]).show()"
   ]
  },
  {
   "cell_type": "markdown",
   "metadata": {
    "editable": true
   },
   "source": [
    "Let's check that we have all the countries in our final fact table."
   ]
  },
  {
   "cell_type": "code",
   "execution_count": 13,
   "metadata": {
    "editable": true
   },
   "outputs": [
    {
     "data": {
      "text/plain": [
       "49"
      ]
     },
     "execution_count": 13,
     "metadata": {},
     "output_type": "execute_result"
    }
   ],
   "source": [
    "countries = Ec_status_df.select('country_code')\n",
    "# countries.distinct().show()\n",
    "countries.distinct().count()"
   ]
  },
  {
   "cell_type": "markdown",
   "metadata": {
    "editable": true
   },
   "source": [
    "We can see that in this case we have 49 countries when our original file _Stock_Countries.csv_ had 50. This is because when collecting the stock market values _yfinance_ library couldn't get any of the 25 values of the companies in _Greece_. This is not a problem because it can be fixed in time (if yahoo finances updates stock market of the companies for the next days) or if we change the date range selected."
   ]
  },
  {
   "cell_type": "markdown",
   "metadata": {
    "editable": true
   },
   "source": [
    "## Example"
   ]
  },
  {
   "cell_type": "markdown",
   "metadata": {
    "editable": true
   },
   "source": [
    "This example will serve as a small presentation on how this data lake can be useful to analyze the economic impact of the measures took by goverments in regards to fight covid-19."
   ]
  },
  {
   "cell_type": "code",
   "execution_count": 14,
   "metadata": {
    "editable": true
   },
   "outputs": [
    {
     "name": "stdout",
     "output_type": "stream",
     "text": [
      "+------------+-------------------+------------+----------------+--------+----------+------------------+\n",
      "|ec_status_id|               date|country_code|stringency_index|stock_id|value_type|             value|\n",
      "+------------+-------------------+------------+----------------+--------+----------+------------------+\n",
      "|  8590345387|2019-09-23 00:00:00|         ESP|             0.0|  TRE.MC|      Open| 23.15999984741211|\n",
      "|  8590347242|2019-09-24 00:00:00|         ESP|             0.0|  TRE.MC|      Open|23.139999389648438|\n",
      "|  8590349098|2019-09-25 00:00:00|         ESP|             0.0|  TRE.MC|      Open|23.040000915527344|\n",
      "|  8590350954|2019-09-26 00:00:00|         ESP|             0.0|  TRE.MC|      Open|22.459999084472656|\n",
      "|  8590352735|2019-09-27 00:00:00|         ESP|             0.0|  TRE.MC|      Open|22.239999771118164|\n",
      "|  8590354585|2019-09-30 00:00:00|         ESP|             0.0|  TRE.MC|      Open|22.399999618530273|\n",
      "|  8590356381|2019-10-01 00:00:00|         ESP|             0.0|  TRE.MC|      Open|22.260000228881836|\n",
      "|  8590358189|2019-10-02 00:00:00|         ESP|             0.0|  TRE.MC|      Open|22.219999313354492|\n",
      "|  8590360001|2019-10-03 00:00:00|         ESP|             0.0|  TRE.MC|      Open|21.559999465942383|\n",
      "|  8590361781|2019-10-04 00:00:00|         ESP|             0.0|  TRE.MC|      Open|  21.6200008392334|\n",
      "|  8590363686|2019-10-07 00:00:00|         ESP|             0.0|  TRE.MC|      Open|21.799999237060547|\n",
      "|  8590365462|2019-10-08 00:00:00|         ESP|             0.0|  TRE.MC|      Open|21.979999542236328|\n",
      "|  8590367269|2019-10-09 00:00:00|         ESP|             0.0|  TRE.MC|      Open|21.899999618530273|\n",
      "|  8590369115|2019-10-10 00:00:00|         ESP|             0.0|  TRE.MC|      Open|21.899999618530273|\n",
      "|  8590370887|2019-10-11 00:00:00|         ESP|             0.0|  TRE.MC|      Open| 22.15999984741211|\n",
      "|  8590372421|2019-10-14 00:00:00|         ESP|             0.0|  TRE.MC|      Open|22.100000381469727|\n",
      "|  8590374266|2019-10-15 00:00:00|         ESP|             0.0|  TRE.MC|      Open|22.299999237060547|\n",
      "|  8590376123|2019-10-16 00:00:00|         ESP|             0.0|  TRE.MC|      Open| 22.84000015258789|\n",
      "|  8590377980|2019-10-17 00:00:00|         ESP|             0.0|  TRE.MC|      Open|23.559999465942383|\n",
      "|  8590379762|2019-10-18 00:00:00|         ESP|             0.0|  TRE.MC|      Open|22.899999618530273|\n",
      "+------------+-------------------+------------+----------------+--------+----------+------------------+\n",
      "only showing top 20 rows\n",
      "\n"
     ]
    }
   ],
   "source": [
    "Ec_status_df.filter((Ec_status_df.country_code=='ESP') & (Ec_status_df.value_type=='Open') & (Ec_status_df.stock_id=='TRE.MC')).sort(\"Date\").show()"
   ]
  },
  {
   "cell_type": "code",
   "execution_count": 15,
   "metadata": {
    "editable": true
   },
   "outputs": [],
   "source": [
    "spain_df_p = Ec_status_df.filter((Ec_status_df.country_code=='ESP') & (Ec_status_df.value_type=='Open') & (Ec_status_df.stock_id=='TRE.MC')).sort(\"Date\").toPandas()"
   ]
  },
  {
   "cell_type": "code",
   "execution_count": 16,
   "metadata": {
    "editable": true
   },
   "outputs": [
    {
     "data": {
      "text/html": [
       "<div>\n",
       "<style scoped>\n",
       "    .dataframe tbody tr th:only-of-type {\n",
       "        vertical-align: middle;\n",
       "    }\n",
       "\n",
       "    .dataframe tbody tr th {\n",
       "        vertical-align: top;\n",
       "    }\n",
       "\n",
       "    .dataframe thead th {\n",
       "        text-align: right;\n",
       "    }\n",
       "</style>\n",
       "<table border=\"1\" class=\"dataframe\">\n",
       "  <thead>\n",
       "    <tr style=\"text-align: right;\">\n",
       "      <th></th>\n",
       "      <th>ec_status_id</th>\n",
       "      <th>date</th>\n",
       "      <th>country_code</th>\n",
       "      <th>stringency_index</th>\n",
       "      <th>stock_id</th>\n",
       "      <th>value_type</th>\n",
       "      <th>value</th>\n",
       "    </tr>\n",
       "  </thead>\n",
       "  <tbody>\n",
       "    <tr>\n",
       "      <th>0</th>\n",
       "      <td>8590345387</td>\n",
       "      <td>2019-09-23</td>\n",
       "      <td>ESP</td>\n",
       "      <td>0.0</td>\n",
       "      <td>TRE.MC</td>\n",
       "      <td>Open</td>\n",
       "      <td>23.160000</td>\n",
       "    </tr>\n",
       "    <tr>\n",
       "      <th>1</th>\n",
       "      <td>8590347242</td>\n",
       "      <td>2019-09-24</td>\n",
       "      <td>ESP</td>\n",
       "      <td>0.0</td>\n",
       "      <td>TRE.MC</td>\n",
       "      <td>Open</td>\n",
       "      <td>23.139999</td>\n",
       "    </tr>\n",
       "    <tr>\n",
       "      <th>2</th>\n",
       "      <td>8590349098</td>\n",
       "      <td>2019-09-25</td>\n",
       "      <td>ESP</td>\n",
       "      <td>0.0</td>\n",
       "      <td>TRE.MC</td>\n",
       "      <td>Open</td>\n",
       "      <td>23.040001</td>\n",
       "    </tr>\n",
       "    <tr>\n",
       "      <th>3</th>\n",
       "      <td>8590350954</td>\n",
       "      <td>2019-09-26</td>\n",
       "      <td>ESP</td>\n",
       "      <td>0.0</td>\n",
       "      <td>TRE.MC</td>\n",
       "      <td>Open</td>\n",
       "      <td>22.459999</td>\n",
       "    </tr>\n",
       "    <tr>\n",
       "      <th>4</th>\n",
       "      <td>8590352735</td>\n",
       "      <td>2019-09-27</td>\n",
       "      <td>ESP</td>\n",
       "      <td>0.0</td>\n",
       "      <td>TRE.MC</td>\n",
       "      <td>Open</td>\n",
       "      <td>22.240000</td>\n",
       "    </tr>\n",
       "  </tbody>\n",
       "</table>\n",
       "</div>"
      ],
      "text/plain": [
       "   ec_status_id       date country_code  stringency_index stock_id value_type  \\\n",
       "0    8590345387 2019-09-23          ESP               0.0   TRE.MC       Open   \n",
       "1    8590347242 2019-09-24          ESP               0.0   TRE.MC       Open   \n",
       "2    8590349098 2019-09-25          ESP               0.0   TRE.MC       Open   \n",
       "3    8590350954 2019-09-26          ESP               0.0   TRE.MC       Open   \n",
       "4    8590352735 2019-09-27          ESP               0.0   TRE.MC       Open   \n",
       "\n",
       "       value  \n",
       "0  23.160000  \n",
       "1  23.139999  \n",
       "2  23.040001  \n",
       "3  22.459999  \n",
       "4  22.240000  "
      ]
     },
     "execution_count": 16,
     "metadata": {},
     "output_type": "execute_result"
    }
   ],
   "source": [
    "spain_df_p.head(5)"
   ]
  },
  {
   "cell_type": "code",
   "execution_count": 17,
   "metadata": {
    "editable": true
   },
   "outputs": [
    {
     "data": {
      "text/plain": [
       "ec_status_id                 int64\n",
       "date                datetime64[ns]\n",
       "country_code                object\n",
       "stringency_index           float64\n",
       "stock_id                    object\n",
       "value_type                  object\n",
       "value                      float64\n",
       "dtype: object"
      ]
     },
     "execution_count": 17,
     "metadata": {},
     "output_type": "execute_result"
    }
   ],
   "source": [
    "spain_df_p.dtypes"
   ]
  },
  {
   "cell_type": "code",
   "execution_count": 18,
   "metadata": {
    "editable": true
   },
   "outputs": [
    {
     "data": {
      "text/plain": [
       "<matplotlib.figure.Figure at 0x7fd42331bda0>"
      ]
     },
     "metadata": {},
     "output_type": "display_data"
    }
   ],
   "source": [
    "plt.clf()"
   ]
  },
  {
   "cell_type": "code",
   "execution_count": 19,
   "metadata": {
    "editable": true
   },
   "outputs": [
    {
     "data": {
      "text/plain": [
       "<matplotlib.axes._subplots.AxesSubplot at 0x7fd416cec588>"
      ]
     },
     "execution_count": 19,
     "metadata": {},
     "output_type": "execute_result"
    },
    {
     "data": {
      "image/png": "[encoded data removed]",
      "text/plain": [
       "<matplotlib.figure.Figure at 0x7fd416cc4c50>"
      ]
     },
     "metadata": {
      "needs_background": "light"
     },
     "output_type": "display_data"
    }
   ],
   "source": [
    "spain_df_p.plot(x='date', y=['value'], kind='line', rot=45)"
   ]
  },
  {
   "cell_type": "code",
   "execution_count": 20,
   "metadata": {
    "editable": true
   },
   "outputs": [
    {
     "data": {
      "text/plain": [
       "<matplotlib.axes._subplots.AxesSubplot at 0x7fd414c0a9b0>"
      ]
     },
     "execution_count": 20,
     "metadata": {},
     "output_type": "execute_result"
    },
    {
     "data": {
      "image/png": "[encoded data removed]",
      "text/plain": [
       "<matplotlib.figure.Figure at 0x7fd414c81ba8>"
      ]
     },
     "metadata": {
      "needs_background": "light"
     },
     "output_type": "display_data"
    }
   ],
   "source": [
    "spain_df_p.plot(x='date', y=['value', 'stringency_index'], kind='line', rot=45)"
   ]
  },
  {
   "cell_type": "markdown",
   "metadata": {
    "editable": true
   },
   "source": [
    "It is possible to appreciate it with more detail if I normalize _stringency_index_ value to the stock market value."
   ]
  },
  {
   "cell_type": "code",
   "execution_count": 21,
   "metadata": {
    "editable": true
   },
   "outputs": [
    {
     "data": {
      "text/plain": [
       "<matplotlib.axes._subplots.AxesSubplot at 0x7fd414899438>"
      ]
     },
     "execution_count": 21,
     "metadata": {},
     "output_type": "execute_result"
    },
    {
     "data": {
      "image/png": "[encoded data removed]",
      "text/plain": [
       "<matplotlib.figure.Figure at 0x7fd446e57940>"
      ]
     },
     "metadata": {
      "needs_background": "light"
     },
     "output_type": "display_data"
    }
   ],
   "source": [
    "spain_df_p['stringency_index'] = (spain_df_p['stringency_index']/spain_df_p['stringency_index'].max())*spain_df_p['value'].max()\n",
    "spain_df_p.plot(x='date', y=['value', 'stringency_index'], kind='line', rot=45)"
   ]
  },
  {
   "cell_type": "markdown",
   "metadata": {
    "editable": true
   },
   "source": [
    "We can appreciate in this example how the stringency of the measures took by the goverment are greatly correlated with the stock market value for this company."
   ]
  },
  {
   "cell_type": "markdown",
   "metadata": {
    "editable": true
   },
   "source": [
    "In the same way we can assess the economic impact on an entire country, different regions, filter by sectors, filter by date..."
   ]
  },
  {
   "cell_type": "markdown",
   "metadata": {
    "editable": true
   },
   "source": [
    "This Data Lake allow us to develop a very useful tool to assess the real economic impact of covid-19."
   ]
  },
  {
   "cell_type": "markdown",
   "metadata": {
    "editable": true
   },
   "source": [
    "***"
   ]
  }
 ],
 "metadata": {
  "kernelspec": {
   "display_name": "Python 3",
   "language": "python",
   "name": "python3"
  },
  "language_info": {
   "codemirror_mode": {
    "name": "ipython",
    "version": 3
   },
   "file_extension": ".py",
   "mimetype": "text/x-python",
   "name": "python",
   "nbconvert_exporter": "python",
   "pygments_lexer": "ipython3",
   "version": "3.6.3"
  }
 },
 "nbformat": 4,
 "nbformat_minor": 4
}
