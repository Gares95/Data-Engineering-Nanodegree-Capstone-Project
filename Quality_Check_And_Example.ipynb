{
 "cells": [
  {
   "cell_type": "markdown",
   "metadata": {},
   "source": [
    "# Quality Check"
   ]
  },
  {
   "cell_type": "markdown",
   "metadata": {},
   "source": [
    "To assess that the data has been loaded correctly, I'm going to verify that there are no corrupted values and that the dimensions, columns, and rows correspond with the right format."
   ]
  },
  {
   "cell_type": "code",
   "execution_count": 1,
   "metadata": {},
   "outputs": [],
   "source": [
    "import configparser\n",
    "from datetime import datetime\n",
    "import boto3, os\n",
    "from pyspark.sql import SparkSession\n",
    "from pyspark.sql.functions import udf, col\n",
    "from pyspark.sql.functions import year, month, dayofmonth, hour, weekofyear, dayofweek, date_format\n",
    "\n",
    "import matplotlib.pyplot as plt "
   ]
  },
  {
   "cell_type": "code",
   "execution_count": 2,
   "metadata": {},
   "outputs": [],
   "source": [
    "spark = SparkSession \\\n",
    "        .builder \\\n",
    "        .config(\"spark.jars.packages\", \"org.apache.hadoop:hadoop-aws:2.7.0\") \\\n",
    "        .getOrCreate()"
   ]
  },
  {
   "cell_type": "code",
   "execution_count": 3,
   "metadata": {},
   "outputs": [],
   "source": [
    "output_data = \"./Output_Data/\""
   ]
  },
  {
   "cell_type": "markdown",
   "metadata": {},
   "source": [
    "I'll display the structure of the tables in our Data Lake to confirm that the ETL has worked properly."
   ]
  },
  {
   "cell_type": "code",
   "execution_count": 4,
   "metadata": {},
   "outputs": [],
   "source": [
    "# Countries table\n",
    "countries_df = spark.read.parquet(os.path.join(output_data, \"countries/*.parquet\"))"
   ]
  },
  {
   "cell_type": "code",
   "execution_count": 5,
   "metadata": {},
   "outputs": [
    {
     "name": "stdout",
     "output_type": "stream",
     "text": [
      "+------------+--------------------+\n",
      "|country_code|             country|\n",
      "+------------+--------------------+\n",
      "|         COD|Democratic Republ...|\n",
      "|         BIH|Bosnia and Herzeg...|\n",
      "|         ARE|United Arab Emirates|\n",
      "|         LUX|          Luxembourg|\n",
      "|         MMR|             Myanmar|\n",
      "+------------+--------------------+\n",
      "only showing top 5 rows\n",
      "\n"
     ]
    }
   ],
   "source": [
    "countries_df.show(5)"
   ]
  },
  {
   "cell_type": "code",
   "execution_count": 6,
   "metadata": {},
   "outputs": [],
   "source": [
    "# Time table\n",
    "time_df = spark.read.parquet(os.path.join(output_data, \"times/*.parquet\"))"
   ]
  },
  {
   "cell_type": "code",
   "execution_count": 7,
   "metadata": {},
   "outputs": [
    {
     "name": "stdout",
     "output_type": "stream",
     "text": [
      "+--------+--------------------+--------------------+\n",
      "|stock_id|        company_name|              sector|\n",
      "+--------+--------------------+--------------------+\n",
      "|   BKG.L|Berkeley Group Ho...|Consumer Discreti...|\n",
      "|     EFX|        Equifax Inc.|         Industrials|\n",
      "|     FLS|Flowserve Corpora...|         Industrials|\n",
      "|     IFF|International Fla...|           Materials|\n",
      "|   KL.TO|Kirkland Lake Gol...|           Materials|\n",
      "|  LIN.DE|               Linde|           Materials|\n",
      "| MUV2.DE|           Munich Re|          Financials|\n",
      "|   NA.TO|National Bank of ...|          Financials|\n",
      "|   PNN.L|        Pennon Group|  Consumer Defensive|\n",
      "|     REG|Regency Centers C...|         Real Estate|\n",
      "|     TEL|TE Connectivity Ltd.|Information Techn...|\n",
      "|  ALL.AX|  Aristocrat Leisure|Consumer Discreti...|\n",
      "|  NAB.AX|National Australi...|          Financials|\n",
      "|  NZX.NZ|         NZX Limited|          Financials|\n",
      "|RRR1R.RG|AS VEF Radiotehni...|Information Techn...|\n",
      "|  STO.AX|              Santos|              Energy|\n",
      "|    OTIS|      Otis Worldwide|         Industrials|\n",
      "|    ABMD|         ABIOMED Inc|          Healthcare|\n",
      "|     AJG|Arthur J. Gallagh...|          Financials|\n",
      "|   CA.PA|           Carrefour|  Consumer Defensive|\n",
      "+--------+--------------------+--------------------+\n",
      "only showing top 20 rows\n",
      "\n"
     ]
    }
   ],
   "source": [
    "stocks_df = spark.read.parquet(os.path.join(output_data, \"stocks/*.parquet\")).show()"
   ]
  },
  {
   "cell_type": "code",
   "execution_count": 8,
   "metadata": {},
   "outputs": [],
   "source": [
    "# Ec_status table (fact table)\n",
    "Ec_status_df = spark.read.parquet(os.path.join(output_data, \"Ec_status/*.parquet\"))"
   ]
  },
  {
   "cell_type": "code",
   "execution_count": 9,
   "metadata": {},
   "outputs": [
    {
     "name": "stdout",
     "output_type": "stream",
     "text": [
      "root\n",
      " |-- ec_status_id: long (nullable = true)\n",
      " |-- date: string (nullable = true)\n",
      " |-- country_code: string (nullable = true)\n",
      " |-- stringency_index: double (nullable = true)\n",
      " |-- stock_id: string (nullable = true)\n",
      " |-- value_type: string (nullable = true)\n",
      " |-- value: double (nullable = true)\n",
      "\n"
     ]
    }
   ],
   "source": [
    "Ec_status_df.printSchema()"
   ]
  },
  {
   "cell_type": "code",
   "execution_count": 10,
   "metadata": {},
   "outputs": [
    {
     "name": "stdout",
     "output_type": "stream",
     "text": [
      "+------------+----------+------------+----------------+--------+----------+------------------+\n",
      "|ec_status_id|      date|country_code|stringency_index|stock_id|value_type|             value|\n",
      "+------------+----------+------------+----------------+--------+----------+------------------+\n",
      "|          54|2020-01-01|         ISR|             0.0| MZTF.TA| Adj Close|   9082.0439453125|\n",
      "|         336|2020-01-02|         USA|             0.0|     BDX| Adj Close| 268.9068603515625|\n",
      "|         365|2020-01-02|         USA|             0.0|     BMY| Adj Close| 61.87905502319336|\n",
      "|         494|2020-01-02|         USA|             0.0|    CSCO| Adj Close|  47.1553955078125|\n",
      "|         783|2020-01-02|         USA|             0.0|     HSY| Adj Close|140.89169311523438|\n",
      "+------------+----------+------------+----------------+--------+----------+------------------+\n",
      "only showing top 5 rows\n",
      "\n"
     ]
    }
   ],
   "source": [
    "Ec_status_df.show(5)"
   ]
  },
  {
   "cell_type": "code",
   "execution_count": 11,
   "metadata": {},
   "outputs": [
    {
     "name": "stdout",
     "output_type": "stream",
     "text": [
      "Data has no duplicates\n"
     ]
    }
   ],
   "source": [
    "# Checking duplicates\n",
    "if Ec_status_df.count() > Ec_status_df.dropDuplicates(Ec_status_df.columns).count():\n",
    "    raise ValueError('Data has duplicates')\n",
    "else:\n",
    "    print(\"Data has no duplicates\")"
   ]
  },
  {
   "cell_type": "code",
   "execution_count": 12,
   "metadata": {},
   "outputs": [
    {
     "name": "stdout",
     "output_type": "stream",
     "text": [
      "+------------+----+------------+----------------+--------+----------+-----+\n",
      "|ec_status_id|date|country_code|stringency_index|stock_id|value_type|value|\n",
      "+------------+----+------------+----------------+--------+----------+-----+\n",
      "|           0|   0|           0|               0|       0|         0|    0|\n",
      "+------------+----+------------+----------------+--------+----------+-----+\n",
      "\n"
     ]
    }
   ],
   "source": [
    "#  Check for missing values\n",
    "from pyspark.sql.functions import isnan, when, count, col\n",
    "Ec_status_df.select([count(when(col(c).isNull(), c)).alias(c) for c in Ec_status_df.columns]).show()"
   ]
  },
  {
   "cell_type": "markdown",
   "metadata": {},
   "source": [
    "Let's check that we have all the countries in our final fact table."
   ]
  },
  {
   "cell_type": "code",
   "execution_count": 13,
   "metadata": {},
   "outputs": [
    {
     "data": {
      "text/plain": [
       "48"
      ]
     },
     "execution_count": 13,
     "metadata": {},
     "output_type": "execute_result"
    }
   ],
   "source": [
    "countries = Ec_status_df.select('country_code')\n",
    "# countries.distinct().show()\n",
    "countries.distinct().count()"
   ]
  },
  {
   "cell_type": "markdown",
   "metadata": {},
   "source": [
    "We can see that in this case we have 49 countries when our original file _Stock_Countries.csv_ had 50. This is because when collecting the stock market values _yfinance_ library couldn't get any of the 25 values of the companies in _Greece_. This is not a problem because it can be fixed in time (if yahoo finances updates stock market of the companies for the next days) or if we change the date range selected."
   ]
  },
  {
   "cell_type": "markdown",
   "metadata": {},
   "source": [
    "## Example"
   ]
  },
  {
   "cell_type": "markdown",
   "metadata": {},
   "source": [
    "This example will serve as a small presentation on how this data lake can be useful to analyze the economic impact of the measures took by goverments in regards to fight covid-19."
   ]
  },
  {
   "cell_type": "code",
   "execution_count": 14,
   "metadata": {},
   "outputs": [
    {
     "name": "stdout",
     "output_type": "stream",
     "text": [
      "+------------+----------+------------+----------------+--------+----------+------------------+\n",
      "|ec_status_id|      date|country_code|stringency_index|stock_id|value_type|             value|\n",
      "+------------+----------+------------+----------------+--------+----------+------------------+\n",
      "| 51539706324|2020-01-02|         ESP|             0.0|  TRE.MC|      Open|23.719999313354492|\n",
      "| 51539707855|2020-01-03|         ESP|             0.0|  TRE.MC|      Open|24.040000915527344|\n",
      "| 51539709720|2020-01-06|         ESP|             0.0|  TRE.MC|      Open| 23.84000015258789|\n",
      "| 51539711519|2020-01-07|         ESP|             0.0|  TRE.MC|      Open|24.059999465942383|\n",
      "| 51539713357|2020-01-08|         ESP|             0.0|  TRE.MC|      Open| 23.81999969482422|\n",
      "| 51539715201|2020-01-09|         ESP|             0.0|  TRE.MC|      Open|23.700000762939453|\n",
      "| 51539716970|2020-01-10|         ESP|             0.0|  TRE.MC|      Open|23.719999313354492|\n",
      "| 51539718663|2020-01-13|         ESP|             0.0|  TRE.MC|      Open|23.600000381469727|\n",
      "| 51539720507|2020-01-14|         ESP|             0.0|  TRE.MC|      Open|23.719999313354492|\n",
      "| 51539722351|2020-01-15|         ESP|             0.0|  TRE.MC|      Open|23.860000610351562|\n",
      "| 51539724195|2020-01-16|         ESP|             0.0|  TRE.MC|      Open|              24.0|\n",
      "| 51539725964|2020-01-17|         ESP|             0.0|  TRE.MC|      Open|23.959999084472656|\n",
      "| 51539727401|2020-01-20|         ESP|             0.0|  TRE.MC|      Open| 23.84000015258789|\n",
      "| 51539729167|2020-01-21|         ESP|             0.0|  TRE.MC|      Open|23.700000762939453|\n",
      "| 51539731001|2020-01-22|         ESP|             0.0|  TRE.MC|      Open| 23.65999984741211|\n",
      "| 51539732835|2020-01-23|         ESP|             0.0|  TRE.MC|      Open|              23.5|\n",
      "| 51539734582|2020-01-24|         ESP|             0.0|  TRE.MC|      Open|23.100000381469727|\n",
      "| 51539736407|2020-01-27|         ESP|             0.0|  TRE.MC|      Open| 22.65999984741211|\n",
      "| 51539738210|2020-01-28|         ESP|             0.0|  TRE.MC|      Open|22.399999618530273|\n",
      "| 51539740044|2020-01-29|         ESP|             0.0|  TRE.MC|      Open|22.239999771118164|\n",
      "+------------+----------+------------+----------------+--------+----------+------------------+\n",
      "only showing top 20 rows\n",
      "\n"
     ]
    }
   ],
   "source": [
    "Ec_status_df.filter((Ec_status_df.country_code=='ESP') & (Ec_status_df.value_type=='Open') & (Ec_status_df.stock_id=='TRE.MC')).sort(\"Date\").show()"
   ]
  },
  {
   "cell_type": "code",
   "execution_count": 15,
   "metadata": {},
   "outputs": [],
   "source": [
    "spain_df_p = Ec_status_df.filter((Ec_status_df.country_code=='ESP') & (Ec_status_df.value_type=='Open') & (Ec_status_df.stock_id=='TRE.MC')).sort(\"Date\").toPandas()"
   ]
  },
  {
   "cell_type": "code",
   "execution_count": 16,
   "metadata": {},
   "outputs": [
    {
     "data": {
      "text/html": [
       "<div>\n",
       "<style scoped>\n",
       "    .dataframe tbody tr th:only-of-type {\n",
       "        vertical-align: middle;\n",
       "    }\n",
       "\n",
       "    .dataframe tbody tr th {\n",
       "        vertical-align: top;\n",
       "    }\n",
       "\n",
       "    .dataframe thead th {\n",
       "        text-align: right;\n",
       "    }\n",
       "</style>\n",
       "<table border=\"1\" class=\"dataframe\">\n",
       "  <thead>\n",
       "    <tr style=\"text-align: right;\">\n",
       "      <th></th>\n",
       "      <th>ec_status_id</th>\n",
       "      <th>date</th>\n",
       "      <th>country_code</th>\n",
       "      <th>stringency_index</th>\n",
       "      <th>stock_id</th>\n",
       "      <th>value_type</th>\n",
       "      <th>value</th>\n",
       "    </tr>\n",
       "  </thead>\n",
       "  <tbody>\n",
       "    <tr>\n",
       "      <th>0</th>\n",
       "      <td>51539706324</td>\n",
       "      <td>2020-01-02</td>\n",
       "      <td>ESP</td>\n",
       "      <td>0.0</td>\n",
       "      <td>TRE.MC</td>\n",
       "      <td>Open</td>\n",
       "      <td>23.719999</td>\n",
       "    </tr>\n",
       "    <tr>\n",
       "      <th>1</th>\n",
       "      <td>51539707855</td>\n",
       "      <td>2020-01-03</td>\n",
       "      <td>ESP</td>\n",
       "      <td>0.0</td>\n",
       "      <td>TRE.MC</td>\n",
       "      <td>Open</td>\n",
       "      <td>24.040001</td>\n",
       "    </tr>\n",
       "    <tr>\n",
       "      <th>2</th>\n",
       "      <td>51539709720</td>\n",
       "      <td>2020-01-06</td>\n",
       "      <td>ESP</td>\n",
       "      <td>0.0</td>\n",
       "      <td>TRE.MC</td>\n",
       "      <td>Open</td>\n",
       "      <td>23.840000</td>\n",
       "    </tr>\n",
       "    <tr>\n",
       "      <th>3</th>\n",
       "      <td>51539711519</td>\n",
       "      <td>2020-01-07</td>\n",
       "      <td>ESP</td>\n",
       "      <td>0.0</td>\n",
       "      <td>TRE.MC</td>\n",
       "      <td>Open</td>\n",
       "      <td>24.059999</td>\n",
       "    </tr>\n",
       "    <tr>\n",
       "      <th>4</th>\n",
       "      <td>51539713357</td>\n",
       "      <td>2020-01-08</td>\n",
       "      <td>ESP</td>\n",
       "      <td>0.0</td>\n",
       "      <td>TRE.MC</td>\n",
       "      <td>Open</td>\n",
       "      <td>23.820000</td>\n",
       "    </tr>\n",
       "  </tbody>\n",
       "</table>\n",
       "</div>"
      ],
      "text/plain": [
       "   ec_status_id        date country_code  stringency_index stock_id  \\\n",
       "0   51539706324  2020-01-02          ESP               0.0   TRE.MC   \n",
       "1   51539707855  2020-01-03          ESP               0.0   TRE.MC   \n",
       "2   51539709720  2020-01-06          ESP               0.0   TRE.MC   \n",
       "3   51539711519  2020-01-07          ESP               0.0   TRE.MC   \n",
       "4   51539713357  2020-01-08          ESP               0.0   TRE.MC   \n",
       "\n",
       "  value_type      value  \n",
       "0       Open  23.719999  \n",
       "1       Open  24.040001  \n",
       "2       Open  23.840000  \n",
       "3       Open  24.059999  \n",
       "4       Open  23.820000  "
      ]
     },
     "execution_count": 16,
     "metadata": {},
     "output_type": "execute_result"
    }
   ],
   "source": [
    "spain_df_p.head(5)"
   ]
  },
  {
   "cell_type": "code",
   "execution_count": 17,
   "metadata": {},
   "outputs": [
    {
     "data": {
      "text/html": [
       "<div>\n",
       "<style scoped>\n",
       "    .dataframe tbody tr th:only-of-type {\n",
       "        vertical-align: middle;\n",
       "    }\n",
       "\n",
       "    .dataframe tbody tr th {\n",
       "        vertical-align: top;\n",
       "    }\n",
       "\n",
       "    .dataframe thead th {\n",
       "        text-align: right;\n",
       "    }\n",
       "</style>\n",
       "<table border=\"1\" class=\"dataframe\">\n",
       "  <thead>\n",
       "    <tr style=\"text-align: right;\">\n",
       "      <th></th>\n",
       "      <th>ec_status_id</th>\n",
       "      <th>date</th>\n",
       "      <th>country_code</th>\n",
       "      <th>stringency_index</th>\n",
       "      <th>stock_id</th>\n",
       "      <th>value_type</th>\n",
       "      <th>value</th>\n",
       "    </tr>\n",
       "  </thead>\n",
       "  <tbody>\n",
       "    <tr>\n",
       "      <th>237</th>\n",
       "      <td>60129799445</td>\n",
       "      <td>2020-12-07</td>\n",
       "      <td>ESP</td>\n",
       "      <td>71.3</td>\n",
       "      <td>TRE.MC</td>\n",
       "      <td>Open</td>\n",
       "      <td>10.90</td>\n",
       "    </tr>\n",
       "    <tr>\n",
       "      <th>238</th>\n",
       "      <td>60129801137</td>\n",
       "      <td>2020-12-08</td>\n",
       "      <td>ESP</td>\n",
       "      <td>71.3</td>\n",
       "      <td>TRE.MC</td>\n",
       "      <td>Open</td>\n",
       "      <td>10.82</td>\n",
       "    </tr>\n",
       "    <tr>\n",
       "      <th>239</th>\n",
       "      <td>60129802885</td>\n",
       "      <td>2020-12-09</td>\n",
       "      <td>ESP</td>\n",
       "      <td>71.3</td>\n",
       "      <td>TRE.MC</td>\n",
       "      <td>Open</td>\n",
       "      <td>10.79</td>\n",
       "    </tr>\n",
       "    <tr>\n",
       "      <th>240</th>\n",
       "      <td>60129804632</td>\n",
       "      <td>2020-12-10</td>\n",
       "      <td>ESP</td>\n",
       "      <td>71.3</td>\n",
       "      <td>TRE.MC</td>\n",
       "      <td>Open</td>\n",
       "      <td>10.45</td>\n",
       "    </tr>\n",
       "    <tr>\n",
       "      <th>241</th>\n",
       "      <td>60129806305</td>\n",
       "      <td>2020-12-11</td>\n",
       "      <td>ESP</td>\n",
       "      <td>71.3</td>\n",
       "      <td>TRE.MC</td>\n",
       "      <td>Open</td>\n",
       "      <td>10.38</td>\n",
       "    </tr>\n",
       "  </tbody>\n",
       "</table>\n",
       "</div>"
      ],
      "text/plain": [
       "     ec_status_id        date country_code  stringency_index stock_id  \\\n",
       "237   60129799445  2020-12-07          ESP              71.3   TRE.MC   \n",
       "238   60129801137  2020-12-08          ESP              71.3   TRE.MC   \n",
       "239   60129802885  2020-12-09          ESP              71.3   TRE.MC   \n",
       "240   60129804632  2020-12-10          ESP              71.3   TRE.MC   \n",
       "241   60129806305  2020-12-11          ESP              71.3   TRE.MC   \n",
       "\n",
       "    value_type  value  \n",
       "237       Open  10.90  \n",
       "238       Open  10.82  \n",
       "239       Open  10.79  \n",
       "240       Open  10.45  \n",
       "241       Open  10.38  "
      ]
     },
     "execution_count": 17,
     "metadata": {},
     "output_type": "execute_result"
    }
   ],
   "source": [
    "spain_df_p.tail(5)"
   ]
  },
  {
   "cell_type": "code",
   "execution_count": 18,
   "metadata": {},
   "outputs": [
    {
     "data": {
      "text/plain": [
       "ec_status_id          int64\n",
       "date                 object\n",
       "country_code         object\n",
       "stringency_index    float64\n",
       "stock_id             object\n",
       "value_type           object\n",
       "value               float64\n",
       "dtype: object"
      ]
     },
     "execution_count": 18,
     "metadata": {},
     "output_type": "execute_result"
    }
   ],
   "source": [
    "spain_df_p.dtypes"
   ]
  },
  {
   "cell_type": "code",
   "execution_count": 19,
   "metadata": {},
   "outputs": [
    {
     "data": {
      "text/plain": [
       "<Figure size 432x288 with 0 Axes>"
      ]
     },
     "metadata": {},
     "output_type": "display_data"
    }
   ],
   "source": [
    "plt.clf()"
   ]
  },
  {
   "cell_type": "code",
   "execution_count": 20,
   "metadata": {},
   "outputs": [
    {
     "data": {
      "text/plain": [
       "<matplotlib.axes._subplots.AxesSubplot at 0x1d11d096d30>"
      ]
     },
     "execution_count": 20,
     "metadata": {},
     "output_type": "execute_result"
    },
    {
     "data": {
      "image/png": "[encoded data removed]",
      "text/plain": [
       "<Figure size 432x288 with 1 Axes>"
      ]
     },
     "metadata": {
      "needs_background": "light"
     },
     "output_type": "display_data"
    }
   ],
   "source": [
    "spain_df_p.plot(x='date', y=['value'], kind='line', rot=45)"
   ]
  },
  {
   "cell_type": "code",
   "execution_count": 21,
   "metadata": {},
   "outputs": [
    {
     "data": {
      "text/plain": [
       "<matplotlib.axes._subplots.AxesSubplot at 0x1d11d165820>"
      ]
     },
     "execution_count": 21,
     "metadata": {},
     "output_type": "execute_result"
    },
    {
     "data": {
      "image/png": "[encoded data removed]",
      "text/plain": [
       "<Figure size 432x288 with 1 Axes>"
      ]
     },
     "metadata": {
      "needs_background": "light"
     },
     "output_type": "display_data"
    }
   ],
   "source": [
    "spain_df_p.plot(x='date', y=['value', 'stringency_index'], kind='line', rot=45)"
   ]
  },
  {
   "cell_type": "markdown",
   "metadata": {},
   "source": [
    "It is possible to appreciate it with more detail if I normalize _stringency_index_ value to the stock market value."
   ]
  },
  {
   "cell_type": "code",
   "execution_count": 22,
   "metadata": {},
   "outputs": [
    {
     "data": {
      "text/plain": [
       "<matplotlib.axes._subplots.AxesSubplot at 0x1d11d1e5fd0>"
      ]
     },
     "execution_count": 22,
     "metadata": {},
     "output_type": "execute_result"
    },
    {
     "data": {
      "image/png": "[encoded data removed]",
      "text/plain": [
       "<Figure size 432x288 with 1 Axes>"
      ]
     },
     "metadata": {
      "needs_background": "light"
     },
     "output_type": "display_data"
    }
   ],
   "source": [
    "spain_df_p['stringency_index'] = (spain_df_p['stringency_index']/spain_df_p['stringency_index'].max())*spain_df_p['value'].max()\n",
    "spain_df_p.plot(x='date', y=['value', 'stringency_index'], kind='line', rot=45)"
   ]
  },
  {
   "cell_type": "markdown",
   "metadata": {},
   "source": [
    "We can appreciate in this example how the stringency of the measures took by the goverment are greatly correlated with the stock market value for this company."
   ]
  },
  {
   "cell_type": "markdown",
   "metadata": {},
   "source": [
    "In the same way we can assess the economic impact on an entire country, different regions, filter by sectors, filter by date..."
   ]
  },
  {
   "cell_type": "markdown",
   "metadata": {},
   "source": [
    "This Data Lake allow us to develop a very useful tool to assess the real economic impact of covid-19."
   ]
  },
  {
   "cell_type": "markdown",
   "metadata": {},
   "source": [
    "***"
   ]
  }
 ],
 "metadata": {
  "kernelspec": {
   "display_name": "Python 3",
   "language": "python",
   "name": "python3"
  },
  "language_info": {
   "codemirror_mode": {
    "name": "ipython",
    "version": 3
   },
   "file_extension": ".py",
   "mimetype": "text/x-python",
   "name": "python",
   "nbconvert_exporter": "python",
   "pygments_lexer": "ipython3",
   "version": "3.8.5"
  }
 },
 "nbformat": 4,
 "nbformat_minor": 4
}
